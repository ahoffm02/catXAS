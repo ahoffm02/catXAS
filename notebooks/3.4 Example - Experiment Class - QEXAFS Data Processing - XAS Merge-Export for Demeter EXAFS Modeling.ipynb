{
 "cells": [
  {
   "cell_type": "markdown",
   "id": "60864341",
   "metadata": {},
   "source": [
    "# 3.4 Example - QEXAFS Data Processing -  XAS Merge-Export for Demeter EXAFS Modeling\n",
    "\n",
    "## This notebook assumes that you have run\n",
    "    1. 3.2 Example - QEXAFS Data Processing - Bulk Calibration, Normalization\n",
    "\n",
    "### Goal of Workflow:\n",
    "\n",
    "    1. Open existing experiment pickle\n",
    "    2. Merge data\n",
    "    3. Save Merged Spectrum and Process Params\n",
    "    \n",
    "  \n",
    "### Merge Process:\n",
    "    Step 1: Use two spectra in the experient to identify an energy value wiht a large change in absorption as a function of scan (white line intensity during reduction is a good starting point)\n",
    "    Step 2: Determine which spectra are at steady state based upon change in absorption coefficient\n",
    "    Step 3: Merge [subset of] spectra\n",
    "    Step 4: Save merged data\n",
    "    \n",
    "    Note: If experiment only contains steady state data there will be very little interpretion in what spectra to merge. a first to last option is likely the default.\n",
    "    \n",
    "### Steps:\n",
    "    1. Import Modules\n",
    "    2. Define Paths\n",
    "    3. Open Saved Experiment using 'pickle'\n",
    "    4. Merge Spectra\n",
    "    5. Visualize merge vs. single spectra\n",
    "    6. Save merged dataset\n",
    "\n",
    "### Things to have ready when attemtping this example:\n",
    "    1. Directory and filename where the experiment object (pickle) is saved\n",
    "    2. Directory and filenames for where to save merged filed and merged process params\n",
    "\n",
    "## Step 1. Import Modules"
   ]
  },
  {
   "cell_type": "code",
   "execution_count": 1,
   "id": "32ddc2fb",
   "metadata": {},
   "outputs": [],
   "source": [
    "# DO NOT MODIFY BELOW\n",
    "\n",
    "# File Handling\n",
    "import os\n",
    "import pickle\n",
    "\n",
    "# Array Handling\n",
    "import numpy as np\n",
    "import pandas as pd\n",
    "\n",
    "# Make Plotting Interactive\n",
    "from ipywidgets import interact, fixed, widgets\n",
    "\n",
    "# Wrapper for xraylarch (larch)\n",
    "os.chdir('..')\n",
    "pwd = os.getcwd()\n",
    "os.chdir('./catxas')\n",
    "import general as fcts\n",
    "import xas as xfcts\n",
    "import plot as pfcts\n",
    "import process\n",
    "import experiment as exp\n",
    "\n",
    "# Plot Handling\n",
    "import matplotlib.pyplot as plt\n",
    "import matplotlib.gridspec as gridspec\n",
    "\n",
    "%matplotlib inline"
   ]
  },
  {
   "cell_type": "markdown",
   "id": "bc0036b8",
   "metadata": {},
   "source": [
    "## Step 2. Define Paths\n",
    "\n",
    "#### Modify:\n",
    "    1. pickle_dir - directory where to save the experiment\n",
    "    2. pickpe_name - filename of the saved experiment (must include extension '.pickle')\n",
    "    3. output_dir - where to save merged data\n",
    "    4. merge_fname - merged spectra file name\n",
    "    5. process_fname - merged process parameters filename"
   ]
  },
  {
   "cell_type": "code",
   "execution_count": 2,
   "id": "9bda1215",
   "metadata": {},
   "outputs": [],
   "source": [
    "# Directory Containing Experiment:\n",
    "pickle_dir = r'D:\\UU QEXAFS Workup\\Nina - BF31\\Fe Edge\\Up\\Results\\Step B'\n",
    "\n",
    "# Name of Experiment (must include extension '.pickle')\n",
    "pickle_name = 'BF31-Fe-B.pickle'\n",
    "\n",
    "# Directory where to save merged data\n",
    "output_dir = r'D:\\UU QEXAFS Workup\\Nina - BF31\\Fe Edge\\Up\\Results\\Step B'\n",
    "\n",
    "# Merged spectra filename for saving\n",
    "merge_fname = r'State B Post Reduction'\n",
    "\n",
    "# Merged process parameters filename for saving\n",
    "process_fname = r'State B Post Reduction - params'"
   ]
  },
  {
   "cell_type": "markdown",
   "id": "24f2a32f",
   "metadata": {},
   "source": [
    "## Step 3. Open Saved Experiment using 'pickle'\n",
    "\n",
    "    Pickle - A method to save the experimental class and reopen it elsewhere."
   ]
  },
  {
   "cell_type": "code",
   "execution_count": 3,
   "id": "32ab3cd2",
   "metadata": {},
   "outputs": [],
   "source": [
    "# DO NOT MODIFY BELOW\n",
    "\n",
    "pickle_path = os.path.join(pickle_dir,pickle_name)\n",
    "pickle_in = open(pickle_path,\"rb\")\n",
    "my_exp = pickle.load(pickle_in)\n",
    "pickle_in.close()"
   ]
  },
  {
   "cell_type": "markdown",
   "id": "5f133d6a",
   "metadata": {},
   "source": [
    "## Step 4. Merge Subset of Data in Experiment\n",
    "\n",
    "Substeps:\n",
    "    a. Get list of spectra names in experiment\n",
    "    b. Plot two spectra to determine energy with greated change in mu\n",
    "    c. Plot mu(E) for all spectra to determine were steady state is\n",
    "    d. Define range of spectra to merge\n",
    "    e. Create merged spectra\n",
    "    \n",
    "### 4a. Get list of spectra names in experiment"
   ]
  },
  {
   "cell_type": "code",
   "execution_count": 6,
   "id": "6901d117",
   "metadata": {},
   "outputs": [],
   "source": [
    "# DO NOT MODIFY BELOW\n",
    "\n",
    "spectra_list = list(my_exp.spectra.keys())"
   ]
  },
  {
   "cell_type": "markdown",
   "id": "f1e06df0",
   "metadata": {},
   "source": [
    "### 4b. Plot two spectra to determine energy with greated change in mu"
   ]
  },
  {
   "cell_type": "code",
   "execution_count": 5,
   "id": "5d5e0d63",
   "metadata": {},
   "outputs": [],
   "source": [
    "# Select which spectra to plot (0/-1 are first/last, respectively)\n",
    "scan1 = spectra_list[0]\n",
    "scan2 = spectra_list[-1]\n",
    "\n",
    "# Set energy range for plotting\n",
    "emin = 7100\n",
    "emax = 7150"
   ]
  },
  {
   "cell_type": "code",
   "execution_count": 7,
   "id": "9e89d65e",
   "metadata": {},
   "outputs": [
    {
     "data": {
      "application/vnd.jupyter.widget-view+json": {
       "model_id": "c8052bdbe5844b15b3b7de30648c66f1",
       "version_major": 2,
       "version_minor": 0
      },
      "text/plain": [
       "interactive(children=(FloatSlider(value=7125.0, description='Energy:', max=7150.0, min=7100.0), Output()), _do…"
      ]
     },
     "metadata": {},
     "output_type": "display_data"
    },
    {
     "data": {
      "text/plain": [
       "<function plot.plot_XYs_Vline(xy_list, vline_pos, emin, emax, axis_label=['Photon Energy (eV)', 'Norm mux'], size=[12, 10])>"
      ]
     },
     "execution_count": 7,
     "metadata": {},
     "output_type": "execute_result"
    }
   ],
   "source": [
    "# Plot first and last spectra\n",
    "\n",
    "# DO NOT MODIFY BELOW\n",
    "\n",
    "x1 = my_exp.spectra[scan1]['Absorption Spectra']['mu Sample'].energy\n",
    "y1 = my_exp.spectra[scan1]['Absorption Spectra']['mu Sample'].flat\n",
    "\n",
    "x2 = my_exp.spectra[scan2]['Absorption Spectra']['mu Sample'].energy\n",
    "y2 = my_exp.spectra[scan2]['Absorption Spectra']['mu Sample'].flat\n",
    "\n",
    "xy_list = [[x1, y1], [x2, y2]]\n",
    "\n",
    "vline_pos = widgets.FloatSlider(value = (emin+emax)/2, min = emin, max = emax, step = 0.1, description = 'Energy:') \n",
    "axis_label = ['Photon Energy (eV)','Norm mux'] \n",
    "size = [12, 10]\n",
    "\n",
    "interact(pfcts.plot_XYs_Vline, \n",
    "         xy_list = fixed(xy_list), \n",
    "         vline_pos = vline_pos, \n",
    "         emin = fixed(emin), \n",
    "         emax = fixed(emax), \n",
    "         axis_label = fixed(axis_label), \n",
    "         size = fixed(size))"
   ]
  },
  {
   "cell_type": "markdown",
   "id": "e4813f70",
   "metadata": {},
   "source": [
    "### 4c. Plot mu(E) for all spectra to determine were steady state is"
   ]
  },
  {
   "cell_type": "code",
   "execution_count": 8,
   "id": "0912e628",
   "metadata": {},
   "outputs": [],
   "source": [
    "# value of energy selected from plot above\n",
    "energy_pt = 7132.40"
   ]
  },
  {
   "cell_type": "code",
   "execution_count": 10,
   "id": "b3c11cb1",
   "metadata": {},
   "outputs": [
    {
     "data": {
      "application/vnd.jupyter.widget-view+json": {
       "model_id": "30ceaa6c39784acda88fb39cfec54435",
       "version_major": 2,
       "version_minor": 0
      },
      "text/plain": [
       "interactive(children=(IntSlider(value=1271, description='List Number:', max=2542), Output()), _dom_classes=('w…"
      ]
     },
     "metadata": {},
     "output_type": "display_data"
    },
    {
     "data": {
      "text/plain": [
       "<function plot.plot_XYs_Vline(xy_list, vline_pos, emin, emax, axis_label=['Photon Energy (eV)', 'Norm mux'], size=[12, 10])>"
      ]
     },
     "execution_count": 10,
     "metadata": {},
     "output_type": "execute_result"
    }
   ],
   "source": [
    "# DO NOT MODIFY BELOW\n",
    "\n",
    "# Part 1: Build XY table form spectra\n",
    "\n",
    "# Convert spectra list postiion to integer list\n",
    "spectra_list_number = list(range(len(spectra_list)))\n",
    "\n",
    "# get flat Norm(mux) value closest to largest energy variation\n",
    "spectra_mu = []\n",
    "\n",
    "for key in my_exp.spectra.keys():  \n",
    "    # find closest energy point\n",
    "    idx = fcts.find_nearest(my_exp.spectra[key]['Absorption Spectra']['mu Sample'].energy, energy_pt)\n",
    "    \n",
    "    #get flattened mu value and append to spectra_mu list\n",
    "    spectra_mu.append(my_exp.spectra[key]['Absorption Spectra']['mu Sample'].flat[idx[0]])\n",
    "    \n",
    "SpecMu_list = [[spectra_list_number, spectra_mu]]\n",
    "\n",
    "# Part 2: Plot mu vs spectra position in list\n",
    "\n",
    "spectra_min = 0\n",
    "spectra_max = len(spectra_list)\n",
    "\n",
    "\n",
    "vline_pos = widgets.IntSlider( value = (spectra_min+spectra_max)/2, min = spectra_min, max = spectra_max, step = 1, description = 'List Number:') \n",
    "axis_label = ['Spectra Position in List','Norm mux'] \n",
    "size = [6, 5]\n",
    "\n",
    "interact(pfcts.plot_XYs_Vline, \n",
    "         xy_list = fixed(SpecMu_list), \n",
    "         vline_pos = vline_pos, \n",
    "         emin = fixed(spectra_min), \n",
    "         emax = fixed(spectra_max), \n",
    "         axis_label = fixed(axis_label), \n",
    "         size = fixed(size))"
   ]
  },
  {
   "cell_type": "markdown",
   "id": "bf6e9f8c",
   "metadata": {},
   "source": [
    "### 4d. Define range of spectra to merge"
   ]
  },
  {
   "cell_type": "code",
   "execution_count": 11,
   "id": "4da8e58d",
   "metadata": {},
   "outputs": [],
   "source": [
    "# Use slider above to idenfity the index of the spectra for merging between.\n",
    "\n",
    "steaty_state_starts = 1971\n",
    "\n",
    "steaty_state_ends = 2542"
   ]
  },
  {
   "cell_type": "markdown",
   "id": "a8b96715",
   "metadata": {},
   "source": [
    "### 4e. Create merged spectra"
   ]
  },
  {
   "cell_type": "code",
   "execution_count": 12,
   "id": "b6ee2358",
   "metadata": {},
   "outputs": [],
   "source": [
    "# DO NOT MODIFY BELOW\n",
    "\n",
    "merged_spectra = exp.merge_spectra(my_exp, spectra_list[steaty_state_starts:steaty_state_ends])"
   ]
  },
  {
   "cell_type": "markdown",
   "id": "b7a4edba",
   "metadata": {},
   "source": [
    "## Step 5. Visualize merge vs. single spectra"
   ]
  },
  {
   "cell_type": "code",
   "execution_count": 13,
   "id": "a2e669aa",
   "metadata": {},
   "outputs": [],
   "source": [
    "# Specrta_list index to compare merge against\n",
    "    \n",
    "index_value = steaty_state_starts\n",
    "\n",
    "emin = 7100\n",
    "emax = 7150"
   ]
  },
  {
   "cell_type": "code",
   "execution_count": 14,
   "id": "c9635096",
   "metadata": {},
   "outputs": [
    {
     "data": {
      "text/plain": [
       "<matplotlib.legend.Legend at 0x272dc7d35b0>"
      ]
     },
     "execution_count": 14,
     "metadata": {},
     "output_type": "execute_result"
    },
    {
     "data": {
      "image/png": "[encoded data removed]",
      "text/plain": [
       "<Figure size 432x288 with 1 Axes>"
      ]
     },
     "metadata": {
      "needs_background": "light"
     },
     "output_type": "display_data"
    }
   ],
   "source": [
    "# modify as needed to zoom in in Y axis\n",
    "\n",
    "ymin = 3.2\n",
    "ymax = 3.6\n",
    "\n",
    "# DO NOT MODIFY BELOW\n",
    "\n",
    "x1 = my_exp.spectra[spectra_list[index_value]]['Absorption Spectra']['mu Sample'].energy\n",
    "y1 = my_exp.spectra[spectra_list[index_value]]['Absorption Spectra']['mu Sample'].mu\n",
    "\n",
    "x2 = merged_spectra['Absorption Spectra']['mu Sample'].energy\n",
    "y2 = merged_spectra['Absorption Spectra']['mu Sample'].mu\n",
    "\n",
    "plt.plot(x1,y1, color = 'k', label = 'Raw Data')\n",
    "plt.plot(x2,y2, color = 'r', label = 'Merge')\n",
    "plt.xlim(emin, emax)\n",
    "plt.ylim(ymin,ymax)\n",
    "plt.legend()"
   ]
  },
  {
   "cell_type": "markdown",
   "id": "7bb74e20",
   "metadata": {},
   "source": [
    "## Step 6. Save merged dataset"
   ]
  },
  {
   "cell_type": "code",
   "execution_count": 15,
   "id": "c1854338",
   "metadata": {},
   "outputs": [],
   "source": [
    "# DO NOT MODIFY BELOW\n",
    "\n",
    "data = {\n",
    "    'Energy': merged_spectra['Absorption Spectra']['mu Sample'].energy[10:],\n",
    "    'Sample mu': merged_spectra['Absorption Spectra']['mu Sample'].mu[10:],\n",
    "    'Ref mu': merged_spectra['Absorption Spectra']['mu Reference'].mu[10:],\n",
    "}\n",
    "\n",
    "df = pd.DataFrame(data)\n",
    "\n",
    "# interpolate to dateset smaller than 5k data points if needed\n",
    "if df['Energy'].size > 5000:\n",
    "    \n",
    "    start = df['Energy'].iloc[0]\n",
    "    stop = df['Energy'].iloc[-1]\n",
    "    step = 0.25\n",
    "    \n",
    "    # Make new energy list\n",
    "    new_E = np.arange(start, stop+step, step)\n",
    "    \n",
    "    # Interpolate Date\n",
    "    df.set_index('Energy', inplace = True)\n",
    "    \n",
    "    df = fcts.interp_df(df,new_E)\n",
    "\n",
    "# Save Merge Spectra\n",
    "df.to_csv(os.path.join(output_dir, merge_fname + '.csv'), sep=',', na_rep='', header=True, index=True)\n",
    "\n",
    "# Save Process Params\n",
    "merged_spectra['Process Values'].to_csv(os.path.join(output_dir, process_fname + '.csv'), sep=',', na_rep='', header=True, index=True)"
   ]
  },
  {
   "cell_type": "code",
   "execution_count": null,
   "id": "45a551a9",
   "metadata": {},
   "outputs": [],
   "source": []
  }
 ],
 "metadata": {
  "kernelspec": {
   "display_name": "Python 3 (ipykernel)",
   "language": "python",
   "name": "python3"
  },
  "language_info": {
   "codemirror_mode": {
    "name": "ipython",
    "version": 3
   },
   "file_extension": ".py",
   "mimetype": "text/x-python",
   "name": "python",
   "nbconvert_exporter": "python",
   "pygments_lexer": "ipython3",
   "version": "3.9.12"
  }
 },
 "nbformat": 4,
 "nbformat_minor": 5
}
