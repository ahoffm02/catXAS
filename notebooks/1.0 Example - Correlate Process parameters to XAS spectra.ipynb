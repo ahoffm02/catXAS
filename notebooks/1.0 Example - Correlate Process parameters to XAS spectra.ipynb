{
 "cells": [
  {
   "cell_type": "markdown",
   "id": "72fbf102",
   "metadata": {},
   "source": [
    "# 1.0 Example - Correlating Process Paramters to XAS Spectra Time Steps\n",
    "\n",
    "Time-dependent process parameters (Mass Spec, LabView) will be interpolated onto the time-grid of the XAS data making for quick spectra-process parameters plotting and lookup\n",
    "\n",
    "Correlated data is retunred as a pandas dataframe and saved as a .csv file.\n",
    "\n",
    "### Things to have ready when attemtping this example:\n",
    "1. Directoty containing only XAS spectra\n",
    "2. Data structure of the XAS files, key paramters are where the time stamp is stired\n",
    "3. Path and file name for process paramters files (MS and LV)\n",
    "4. Directory where to write the summary file"
   ]
  },
  {
   "cell_type": "markdown",
   "id": "f236584b",
   "metadata": {},
   "source": [
    "## Step 1. Import Modules"
   ]
  },
  {
   "cell_type": "code",
   "execution_count": 1,
   "id": "2e127243",
   "metadata": {},
   "outputs": [
    {
     "name": "stderr",
     "output_type": "stream",
     "text": [
      "C:\\Users\\ashoff\\AppData\\Roaming\\Python\\Python39\\site-packages\\scipy\\__init__.py:155: UserWarning: A NumPy version >=1.18.5 and <1.25.0 is required for this version of SciPy (detected version 1.26.2\n",
      "  warnings.warn(f\"A NumPy version >={np_minversion} and <{np_maxversion}\"\n"
     ]
    },
    {
     "ename": "ModuleNotFoundError",
     "evalue": "No module named 'larch'",
     "output_type": "error",
     "traceback": [
      "\u001b[1;31m---------------------------------------------------------------------------\u001b[0m",
      "\u001b[1;31mModuleNotFoundError\u001b[0m                       Traceback (most recent call last)",
      "Cell \u001b[1;32mIn[1], line 12\u001b[0m\n\u001b[0;32m     10\u001b[0m os\u001b[38;5;241m.\u001b[39mchdir(\u001b[38;5;124m'\u001b[39m\u001b[38;5;124m./catxas\u001b[39m\u001b[38;5;124m'\u001b[39m)\n\u001b[0;32m     11\u001b[0m \u001b[38;5;28;01mimport\u001b[39;00m \u001b[38;5;21;01mgeneral\u001b[39;00m \u001b[38;5;28;01mas\u001b[39;00m \u001b[38;5;21;01mfcts\u001b[39;00m\n\u001b[1;32m---> 12\u001b[0m \u001b[38;5;28;01mimport\u001b[39;00m \u001b[38;5;21;01mxas\u001b[39;00m \u001b[38;5;28;01mas\u001b[39;00m \u001b[38;5;21;01mxfcts\u001b[39;00m\n\u001b[0;32m     13\u001b[0m \u001b[38;5;28;01mimport\u001b[39;00m \u001b[38;5;21;01mplot\u001b[39;00m \u001b[38;5;28;01mas\u001b[39;00m \u001b[38;5;21;01mpfcts\u001b[39;00m\n\u001b[0;32m     14\u001b[0m \u001b[38;5;28;01mimport\u001b[39;00m \u001b[38;5;21;01mprocess\u001b[39;00m\n",
      "File \u001b[1;32m~\\OneDrive - SLAC National Accelerator Laboratory\\Python Codes\\GitHub\\catxas\\catxas\\xas.py:29\u001b[0m\n\u001b[0;32m     26\u001b[0m \u001b[38;5;28;01mfrom\u001b[39;00m \u001b[38;5;21;01mscipy\u001b[39;00m\u001b[38;5;21;01m.\u001b[39;00m\u001b[38;5;21;01msignal\u001b[39;00m \u001b[38;5;28;01mimport\u001b[39;00m savgol_filter\n\u001b[0;32m     28\u001b[0m \u001b[38;5;66;03m# X-ray Science\u001b[39;00m\n\u001b[1;32m---> 29\u001b[0m \u001b[38;5;28;01mimport\u001b[39;00m \u001b[38;5;21;01mlarch\u001b[39;00m\n\u001b[0;32m     30\u001b[0m \u001b[38;5;28;01mfrom\u001b[39;00m \u001b[38;5;21;01mlarch\u001b[39;00m\u001b[38;5;21;01m.\u001b[39;00m\u001b[38;5;21;01mio\u001b[39;00m \u001b[38;5;28;01mimport\u001b[39;00m read_ascii\n\u001b[0;32m     32\u001b[0m \u001b[38;5;66;03m#From Catxas\u001b[39;00m\n",
      "\u001b[1;31mModuleNotFoundError\u001b[0m: No module named 'larch'"
     ]
    }
   ],
   "source": [
    "# File Handling\n",
    "import os\n",
    "\n",
    "# Math and Data Handling\n",
    "import pandas as pd\n",
    "\n",
    "# Wrapper for xraylarch (larch)\n",
    "os.chdir('..')\n",
    "pwd = os.getcwd()\n",
    "os.chdir('./catxas')\n",
    "import general as fcts\n",
    "import xas as xfcts\n",
    "import plot as pfcts\n",
    "import process\n",
    "import experiment as exp"
   ]
  },
  {
   "cell_type": "markdown",
   "id": "3b22a2b5",
   "metadata": {},
   "source": [
    "## Step 2. Path Definitions\n",
    "\n",
    "Specify paths to XAS data, process data streams, and output files\n",
    "\n",
    "#### Notes:\n",
    "1. data_dir can only contain XAS spectra that were collected in the same manner (e.g. steady state scans, or all in-situ scan)\n",
    "2. *_filename paths must be the entire path with file extension\n",
    "3. output_dir must be an existing folder\n",
    "4. result_fname should not have an extension\n"
   ]
  },
  {
   "cell_type": "code",
   "execution_count": null,
   "id": "8826eae4",
   "metadata": {},
   "outputs": [],
   "source": [
    "# Folder containing ONLY CXAS spectra\n",
    "data_dir = os.path.join(pwd, 'sample data\\Raw Data') \n",
    "\n",
    "# Mass Spec File:\n",
    "MS_filename = os.path.join(pwd, 'sample data\\SnO2_TPR_MS.csv') \n",
    "\n",
    "# AmP LabView File:\n",
    "LV_filename = os.path.join(pwd, 'sample data\\SnO2_TPR_LV.txt')\n",
    "\n",
    "# Folder where the correlated datatable will be written\n",
    "output_dir = os.path.join(pwd, 'sample results')\n",
    "\n",
    "# Name of fole to be written\n",
    "result_fname = 'SnO2_TPR_Process_Correlation'"
   ]
  },
  {
   "cell_type": "markdown",
   "id": "2b09443f",
   "metadata": {},
   "source": [
    "## Step 3. Define Beamline Data Structure\n",
    "\n",
    "Common data formats for SSRL beamlines can be found in the \"BL specific XAS data structures.ipynb\" notebook.\n",
    "\n",
    "For this example the key values needed are 'time stamp' (must be true), 'time on line', 'time format', 'padded scan numbers' (padded = leading zeros before the scan number, e.g. *_001 instead of *_1), and 'is QEXAFS'"
   ]
  },
  {
   "cell_type": "code",
   "execution_count": null,
   "id": "7e78c608",
   "metadata": {},
   "outputs": [],
   "source": [
    "### Define the layout of the xas data file and how spectra are calcualted\n",
    "xas_data_structure = {\n",
    "    'time stamp': True,\n",
    "    'time on line': 5,\n",
    "    'time format': '# This Scan Create Date:\\t%m/%d/%Y %I:%M:%S %p ',\n",
    "    'padded scan numbers': True,\n",
    "    'column names': ['Encoder', 'Energy', 'ADC_01', 'ADC_02', 'ADC_03', 'ADC_04', 'ADC_05', 'ADC_06', 'ADC_07', 'ADC_08'],\n",
    "    'energy column' : 'Energy', # Energy [eV]\n",
    "    'sample numerator': 'ADC_01', # I0\n",
    "    'sample denominator': 'ADC_02', # I1\n",
    "    'sample ln': True,\n",
    "    'sample invert': False,\n",
    "    'reference numerator': 'ADC_02', # I1\n",
    "    'reference denominator': 'ADC_03', # I2\n",
    "    'reference ln': True,\n",
    "    'reference invert': False,\n",
    "    'is QEXAFS': False\n",
    "}"
   ]
  },
  {
   "cell_type": "markdown",
   "id": "6af479cc",
   "metadata": {},
   "source": [
    "## Step 4. Summarize file names and time steps of XAS spectra \n",
    "\n",
    "### DO NOT MODIFY THIS SECTION"
   ]
  },
  {
   "cell_type": "code",
   "execution_count": null,
   "id": "35f16c47",
   "metadata": {},
   "outputs": [],
   "source": [
    "time_stamp = xas_data_structure['time stamp']\n",
    "time_line = xas_data_structure['time on line']\n",
    "time_format = xas_data_structure['time format']\n",
    "padded = xas_data_structure['padded scan numbers']\n",
    "is_QEXAFS = xas_data_structure['is QEXAFS']\n",
    "\n",
    "\n",
    "XAS_summary = xfcts.CXAS_Sorted(data_dir,\n",
    "                   time_stamp=time_stamp, time_line=time_line, time_format=time_format,\n",
    "                   padded=padded, is_QEXAFS = is_QEXAFS)"
   ]
  },
  {
   "cell_type": "code",
   "execution_count": null,
   "id": "a09f58f8",
   "metadata": {},
   "outputs": [],
   "source": [
    "# Visualize the summary fole of the XAS data \n",
    "XAS_summary"
   ]
  },
  {
   "cell_type": "markdown",
   "id": "d14af678",
   "metadata": {},
   "source": [
    "## Step 5. Import Process Parameter Files \n",
    "\n",
    "The catxas.general_functions module has a list of fuctions for reading different process files. More formats can be added as needed\n",
    "\n",
    "### MODIFY by:\n",
    "Adding additional lines to read in all process variable streams"
   ]
  },
  {
   "cell_type": "code",
   "execution_count": null,
   "id": "ef0d4dbe",
   "metadata": {},
   "outputs": [],
   "source": [
    "MS_data = process.ReadMSData(MS_filename)\n",
    "\n",
    "LV_data = process.ReadLVData(LV_filename)"
   ]
  },
  {
   "cell_type": "markdown",
   "id": "a9e22f13",
   "metadata": {},
   "source": [
    "## Step 6. Interpolate Process Paramters onto XAS spectra Timestamps\n",
    "\n",
    "### MODIFY by:\n",
    "1. Adding or removing functions to account for all process variable streams\n",
    "2. Update list of dataframes that will be joined in the output file"
   ]
  },
  {
   "cell_type": "code",
   "execution_count": null,
   "id": "0e04a67f",
   "metadata": {},
   "outputs": [],
   "source": [
    "MS_interp = fcts.mergeindex(XAS_summary, MS_data) \n",
    "LV_interp = fcts.mergeindex(XAS_summary, LV_data)\n",
    "\n",
    "concat_list = [XAS_summary['TOS [s]'],XAS_summary['File Name'], MS_interp, LV_interp]"
   ]
  },
  {
   "cell_type": "markdown",
   "id": "09aabc89",
   "metadata": {},
   "source": [
    "## Step 7. Concatenate XAS Filename and Time Summar with Process Parameters\n",
    "\n",
    "### DO NOT MODIFY THIS SECTION"
   ]
  },
  {
   "cell_type": "code",
   "execution_count": null,
   "id": "bdeabb01",
   "metadata": {},
   "outputs": [],
   "source": [
    "process_params = pd.concat(concat_list, axis = 1)"
   ]
  },
  {
   "cell_type": "code",
   "execution_count": null,
   "id": "024b21f7",
   "metadata": {},
   "outputs": [],
   "source": [
    "# Visualize the xas-process parameters summary dataframe \n",
    "process_params"
   ]
  },
  {
   "cell_type": "markdown",
   "id": "8e609e76",
   "metadata": {},
   "source": [
    "## Step 8. Save Dataframe to CSV file\n",
    "\n",
    "### DO NOT MODIFY THIS SECTION"
   ]
  },
  {
   "cell_type": "code",
   "execution_count": null,
   "id": "3b1456f4",
   "metadata": {},
   "outputs": [],
   "source": [
    "process_params.to_csv(os.path.join(output_dir, result_fname + '.csv'), sep=',', \n",
    "                      na_rep='', header=True, index=True, index_label='Time')"
   ]
  }
 ],
 "metadata": {
  "kernelspec": {
   "display_name": "Python 3 (ipykernel)",
   "language": "python",
   "name": "python3"
  },
  "language_info": {
   "codemirror_mode": {
    "name": "ipython",
    "version": 3
   },
   "file_extension": ".py",
   "mimetype": "text/x-python",
   "name": "python",
   "nbconvert_exporter": "python",
   "pygments_lexer": "ipython3",
   "version": "3.9.18"
  }
 },
 "nbformat": 4,
 "nbformat_minor": 5
}
