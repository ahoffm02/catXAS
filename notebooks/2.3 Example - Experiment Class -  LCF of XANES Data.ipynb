{
 "cells": [
  {
   "cell_type": "markdown",
   "id": "e2d5e2f6",
   "metadata": {},
   "source": [
    "# 2.3 Example - XANES LCF using Experiment Class\n",
    "\n",
    "    In this example a first-middle-last scan LCF fit will be compelted and plotted against the known process parameters.\n",
    "\n",
    "    This example assumes that you have a pickled experiment by previoudly running:\n",
    "        '2.0 Example - Experiment Class -  XAS Data Processing'\n",
    "        '2.1 Example - Experiment Class -  Normalized XANES-EXAFS-FT'\n",
    "        '2.2 Example - Experiment Class -  XAS-Process Stream Correlation'\n",
    "\n",
    "\n",
    "### Steps:\n",
    "    \n",
    "    1. Import Modules\n",
    "    2. Define Paths\n",
    "    3. Open Saved Experiment using 'pickle'\n",
    "    4. Perform LCF\n",
    "    5. Save Experiment with 'pickle'\n",
    "\n",
    "### Things to have ready when attemtping this example:\n",
    "\n",
    "    1. Directory and filename for the 'pickled' experiment \n",
    "    2. Scan name of one spectra in the experiment object"
   ]
  },
  {
   "cell_type": "markdown",
   "id": "78dc97ca",
   "metadata": {},
   "source": [
    "## Step 1. Import Modules"
   ]
  },
  {
   "cell_type": "code",
   "execution_count": 1,
   "id": "a2529f1a",
   "metadata": {},
   "outputs": [
    {
     "ename": "ModuleNotFoundError",
     "evalue": "No module named 'larch'",
     "output_type": "error",
     "traceback": [
      "\u001b[1;31m---------------------------------------------------------------------------\u001b[0m",
      "\u001b[1;31mModuleNotFoundError\u001b[0m                       Traceback (most recent call last)",
      "Input \u001b[1;32mIn [1]\u001b[0m, in \u001b[0;36m<cell line: 13>\u001b[1;34m()\u001b[0m\n\u001b[0;32m     11\u001b[0m os\u001b[38;5;241m.\u001b[39mchdir(\u001b[38;5;124m'\u001b[39m\u001b[38;5;124m./catxas\u001b[39m\u001b[38;5;124m'\u001b[39m)\n\u001b[0;32m     12\u001b[0m \u001b[38;5;28;01mimport\u001b[39;00m \u001b[38;5;21;01mgeneral\u001b[39;00m \u001b[38;5;28;01mas\u001b[39;00m \u001b[38;5;21;01mfcts\u001b[39;00m\n\u001b[1;32m---> 13\u001b[0m \u001b[38;5;28;01mimport\u001b[39;00m \u001b[38;5;21;01mxas\u001b[39;00m \u001b[38;5;28;01mas\u001b[39;00m \u001b[38;5;21;01mxfcts\u001b[39;00m\n\u001b[0;32m     14\u001b[0m \u001b[38;5;28;01mimport\u001b[39;00m \u001b[38;5;21;01mplot\u001b[39;00m \u001b[38;5;28;01mas\u001b[39;00m \u001b[38;5;21;01mpfcts\u001b[39;00m\n\u001b[0;32m     15\u001b[0m \u001b[38;5;28;01mimport\u001b[39;00m \u001b[38;5;21;01mprocess\u001b[39;00m\n",
      "File \u001b[1;32m~\\OneDrive - SLAC National Accelerator Laboratory\\Python Codes\\GitHub\\catxas\\catxas\\xas.py:29\u001b[0m, in \u001b[0;36m<module>\u001b[1;34m\u001b[0m\n\u001b[0;32m     26\u001b[0m \u001b[38;5;28;01mfrom\u001b[39;00m \u001b[38;5;21;01mscipy\u001b[39;00m\u001b[38;5;21;01m.\u001b[39;00m\u001b[38;5;21;01msignal\u001b[39;00m \u001b[38;5;28;01mimport\u001b[39;00m savgol_filter\n\u001b[0;32m     28\u001b[0m \u001b[38;5;66;03m# X-ray Science\u001b[39;00m\n\u001b[1;32m---> 29\u001b[0m \u001b[38;5;28;01mimport\u001b[39;00m \u001b[38;5;21;01mlarch\u001b[39;00m\n\u001b[0;32m     30\u001b[0m \u001b[38;5;28;01mfrom\u001b[39;00m \u001b[38;5;21;01mlarch\u001b[39;00m\u001b[38;5;21;01m.\u001b[39;00m\u001b[38;5;21;01mio\u001b[39;00m \u001b[38;5;28;01mimport\u001b[39;00m read_ascii\n\u001b[0;32m     32\u001b[0m \u001b[38;5;66;03m#From Catxas\u001b[39;00m\n",
      "\u001b[1;31mModuleNotFoundError\u001b[0m: No module named 'larch'"
     ]
    }
   ],
   "source": [
    "# File Handling\n",
    "import os\n",
    "import pickle\n",
    "\n",
    "# Make Plotting interactive\n",
    "from ipywidgets import interact, fixed\n",
    "\n",
    "# Wrapper for xraylarch (larch)\n",
    "os.chdir('..')\n",
    "pwd = os.getcwd()\n",
    "os.chdir('./catxas')\n",
    "import general as fcts\n",
    "import xas as xfcts\n",
    "import plot as pfcts\n",
    "import process\n",
    "import experiment as exp\n",
    "\n",
    "# Plot Handling\n",
    "%matplotlib inline"
   ]
  },
  {
   "cell_type": "markdown",
   "id": "b48e96e7",
   "metadata": {},
   "source": [
    "## Step 2. Define Paths\n",
    "\n",
    "    Note: The sample shown here has mass spec and LabView data.  As more process streams are generated, additional formats can be added. This is just an example.\n",
    "\n",
    "#### Modify:\n",
    "    1. pickle_dir - directory containing the pickled experiment\n",
    "    2. pickpe_name - filename of the pickled experiment (must include extension '.pickle')\n",
    "    3. scan_name - a name of one fo the spectra in the experiment, used for interrogation throughout"
   ]
  },
  {
   "cell_type": "code",
   "execution_count": null,
   "id": "1fe5f13e",
   "metadata": {},
   "outputs": [],
   "source": [
    "# Directory Containing Experiment:\n",
    "pickle_dir = os.path.join(pwd, 'sample results')\n",
    "\n",
    "# Name of Experiment (must include extension '.pickle')\n",
    "pickle_name = 'SnO2_TPR.pickle'\n",
    "\n",
    "# Scan Naame for looking at parts of the Experiment Object\n",
    "scan_name = '20210614_SnO2_H2_TPR_Sn_EXAFS_92.tra_0001'"
   ]
  },
  {
   "cell_type": "markdown",
   "id": "8207f9cf",
   "metadata": {},
   "source": [
    "## Step 3. Open Saved Experiment using 'pickle'\n",
    "\n",
    "    Pickle - A method to save the experimental class and reopen it elsewhere."
   ]
  },
  {
   "cell_type": "code",
   "execution_count": null,
   "id": "b53a4560",
   "metadata": {},
   "outputs": [],
   "source": [
    "pickle_path = os.path.join(pickle_dir,pickle_name)\n",
    "pickle_in = open(pickle_path,\"rb\")\n",
    "my_exp = pickle.load(pickle_in)\n",
    "pickle_in.close()"
   ]
  },
  {
   "cell_type": "markdown",
   "id": "a7853706",
   "metadata": {},
   "source": [
    "## Step 4. Perform LCF\n",
    "\n",
    "    Notes:\n",
    "        a. Basis sets must be larch groups that have been calibrated and normalized\n",
    "        \n",
    "\n",
    "### Major steps for performing LCF:\n",
    "    \n",
    "    a. Generate list of basis spectra groups\n",
    "    b. Load basis set into a \"Fit\"\n",
    "    c. Perform LCF\n",
    "    d. Generate a Fit Report\n",
    "    e. Visualize Fit and Errors with one Process Parameter\n",
    "    f. Visulaize Single Fit\n",
    "    \n"
   ]
  },
  {
   "cell_type": "markdown",
   "id": "7b40a4ff",
   "metadata": {},
   "source": [
    "### 4a. Generate list of basis spectra groups\n",
    "\n",
    "    In this section we ae using three basis spectra that are taken from the main data set, not standards.\n",
    "        1. First Scan (*_0001)\n",
    "        2. ~Middle Scan (*_0003)\n",
    "        3. Last Scan (*_0050)\n",
    "        \n",
    "    Notes:\n",
    "        1. Each basis gropu must have its own name.\n",
    "        2. Basis are compiled into a list prior to uploading into the experiment"
   ]
  },
  {
   "cell_type": "code",
   "execution_count": null,
   "id": "849555e6",
   "metadata": {},
   "outputs": [],
   "source": [
    "# Basis set made from three spectra in the sample dataset\n",
    "basis1 = my_exp.spectra['20210614_SnO2_H2_TPR_Sn_EXAFS_92.tra_0001']['Absorption Spectra']['mu Sample'] \n",
    "basis1.name = '20210614_SnO2_H2_TPR_Sn_EXAFS_92.tra_0001'\n",
    "\n",
    "basis2 = my_exp.spectra['20210614_SnO2_H2_TPR_Sn_EXAFS_92.tra_0031']['Absorption Spectra']['mu Sample']\n",
    "basis2.name = '20210614_SnO2_H2_TPR_Sn_EXAFS_92.tra_0031'\n",
    "\n",
    "basis3 = my_exp.spectra['20210614_SnO2_H2_TPR_Sn_EXAFS_92.tra_0050']['Absorption Spectra']['mu Sample']\n",
    "basis3.name = '20210614_SnO2_H2_TPR_Sn_EXAFS_92.tra_0050'\n",
    "\n",
    "basis = [basis1, basis2, basis3]"
   ]
  },
  {
   "cell_type": "markdown",
   "id": "a4f008a2",
   "metadata": {},
   "source": [
    "### 4b. Load basis set into a \"Fit\"\n",
    "\n",
    "    Each LCF fit can be saved under a different \"Fit name\". Choosing the same name will overwrite a former Fit\n",
    "\n",
    "#### MODIFY:\n",
    "    1. fit_name - unique name for the fit"
   ]
  },
  {
   "cell_type": "code",
   "execution_count": null,
   "id": "c02f29c9",
   "metadata": {},
   "outputs": [],
   "source": [
    "# Load list of basis spectra into the experiment\n",
    "fit_name = 'Fit 1'\n",
    "\n",
    "\n",
    "my_exp.load_lcf_basis(basis, 'Fit 1')"
   ]
  },
  {
   "cell_type": "markdown",
   "id": "4072a2c4",
   "metadata": {},
   "source": [
    "#### Inspection tool to show how LCF is added to the experiment\n",
    "    1. Dictionary of fits - experiment.analysis['LCF]\n",
    "    2. Visualization of the uploaded basis sets"
   ]
  },
  {
   "cell_type": "code",
   "execution_count": null,
   "id": "853986dc",
   "metadata": {},
   "outputs": [],
   "source": [
    "# 1. Inspect Analysis side of experiment\n",
    "\n",
    "print('keys in the experiment.analysis object:')\n",
    "for key in my_exp.analysis.keys():\n",
    "    print(f'\\t{key}')\n",
    "    \n",
    "print('\\nkeys in the \"LCF\" dictionary')\n",
    "for key in my_exp.analysis['LCF'].keys():\n",
    "    print(f'\\t{key}')\n",
    "\n",
    "print('\\nkeys of \"Fit 1\"')\n",
    "for key in my_exp.analysis['LCF']['Fit 1'].keys():\n",
    "    print(f'\\t{key}')  "
   ]
  },
  {
   "cell_type": "code",
   "execution_count": null,
   "id": "5a9adec5",
   "metadata": {},
   "outputs": [],
   "source": [
    "# 2. Visualize basis sets for fitting\n",
    "\n",
    "# MODIFY: fit_name, emin, emax\n",
    "\n",
    "fit_name = 'Fit 1'\n",
    "emin = 29150\n",
    "emax = 29300\n",
    "\n",
    "\n",
    "basis_groups = my_exp.analysis['LCF'][fit_name]['basis spectra']\n",
    "\n",
    "pfcts.plot_XANES(basis_groups, emin, emax, spectra = 'flat', \n",
    "                 deriv = False, e0 = None, e0_line = False, \n",
    "                 overlay = True, use_legend = False)"
   ]
  },
  {
   "cell_type": "markdown",
   "id": "8dff6c13",
   "metadata": {},
   "source": [
    "### 4c. Perform LCF\n",
    "\n",
    "    This fitting step allows different paramters to updated and the fit to be performed.  This step can be run multiple times as needed.\n",
    "\n",
    "#### MODIFY:\n",
    "    1. fit_name - which fit is being completed \n",
    "    2. emin - starting energy range for the LCF\n",
    "    3. emax - ending enregy range for the LCF\n",
    "    4. minvals - minimum values that fits can be at (lower limit of component fraction)\n",
    "    5. maxvals - maximum values that fits can be at (upper limit of component fraction)\n",
    "    6. array_name - what spectra to fit, 'mu', 'norm', 'flat' are common options\n",
    "    7. sum_to_one - True = all components fractions must sum to 1, False = component fractions can some to anything\n",
    "    "
   ]
  },
  {
   "cell_type": "code",
   "execution_count": null,
   "id": "c44724e3",
   "metadata": {},
   "outputs": [],
   "source": [
    "# Fit the sample spectra\n",
    "fit_name = 'Fit 1'\n",
    "emin = 29150\n",
    "emax = 29250\n",
    "minvals = 0\n",
    "maxvals = 1\n",
    "array_name = 'flat'\n",
    "sum_to_one = True\n",
    "\n",
    "my_exp.fit_LCF(fit_name, emin, emax, \n",
    "               weights = None, minvals = minvals, maxvals = maxvals, \n",
    "               arrayname = array_name, sum_to_one = sum_to_one)"
   ]
  },
  {
   "cell_type": "markdown",
   "id": "7f1205d2",
   "metadata": {},
   "source": [
    "#### Inspection tool to show how LCF is updated\n",
    "    1. Dictionary of fit - experiment.analysis['LCF'][fit_name]\n",
    "    2. LCF result for a single spectra"
   ]
  },
  {
   "cell_type": "code",
   "execution_count": null,
   "id": "5d7cb099",
   "metadata": {},
   "outputs": [],
   "source": [
    "# 1. inspection of the updated fit \n",
    "\n",
    "print('keys of \"Fit 1\"')\n",
    "for key in my_exp.analysis['LCF']['Fit 1'].keys():\n",
    "    print(f'\\t{key}') "
   ]
  },
  {
   "cell_type": "code",
   "execution_count": null,
   "id": "4a325c9d",
   "metadata": {},
   "outputs": [],
   "source": [
    "# 2. LCF results for the first scan \n",
    "my_exp.analysis['LCF']['Fit 1']['Results'][scan_name]"
   ]
  },
  {
   "cell_type": "markdown",
   "id": "2a260920",
   "metadata": {},
   "source": [
    "### 4d. Generate a Fit Report\n",
    "\n",
    "    This step compiles all the LCF results for each spectr into a easy to read dataframe into \"Fit Summary\"\n",
    "    \n",
    "#### Modify:\n",
    "    \n",
    "    1. fit_name - name of fit to generate report on"
   ]
  },
  {
   "cell_type": "code",
   "execution_count": null,
   "id": "513fa380",
   "metadata": {},
   "outputs": [],
   "source": [
    "# Generate fit report for all spectra\n",
    "fit_name = 'Fit 1'\n",
    "\n",
    "my_exp.lcf_report('Fit 1')"
   ]
  },
  {
   "cell_type": "markdown",
   "id": "97f54daf",
   "metadata": {},
   "source": [
    "#### Inspection tool to show how LCF is updated\n",
    "    1. Dictionary of fit - experiment.analysis['LCF'][fit_name]\n",
    "    2. Fit Summary results"
   ]
  },
  {
   "cell_type": "code",
   "execution_count": null,
   "id": "08c30b8d",
   "metadata": {},
   "outputs": [],
   "source": [
    "# 1. inspection of the updated fit contents\n",
    "\n",
    "print('keys of \"Fit 1\"')\n",
    "for key in my_exp.analysis['LCF']['Fit 1'].keys():\n",
    "    print(f'\\t{key}')"
   ]
  },
  {
   "cell_type": "code",
   "execution_count": null,
   "id": "b17ca431",
   "metadata": {},
   "outputs": [],
   "source": [
    "# 2. Contents of the Fit Summary\n",
    "my_exp.analysis['LCF']['Fit 1']['Fit Summary']"
   ]
  },
  {
   "cell_type": "markdown",
   "id": "73e97d01",
   "metadata": {},
   "source": [
    "### 4e. Visualize Fit and Errors with one Process Parameter\n",
    "\n",
    "#### Modify:\n",
    "    1. fit_name\n",
    "    2. process_param - name of parameter from a process stream. Common option is temperature (from LV:'TR1 T [°C]')"
   ]
  },
  {
   "cell_type": "code",
   "execution_count": null,
   "id": "1fbbf088",
   "metadata": {},
   "outputs": [],
   "source": [
    "# Visualize Fit with process parameter\n",
    "\n",
    "fit_name = 'Fit 1'\n",
    "process_param = 'TR1 T [°C]'\n",
    "\n",
    "my_exp.plot_LCF_results(fit_name, process_parameter = process_param)"
   ]
  },
  {
   "cell_type": "markdown",
   "id": "5b2e0f88",
   "metadata": {},
   "source": [
    "### 4f. Visulaize Single Fit\n",
    "\n",
    "#### Modify:\n",
    "    1. fit_name\n",
    "    2. emin/emax - Energy range to plot over \n",
    "    3. ymin/ymax - Adjsutd scaling as needed"
   ]
  },
  {
   "cell_type": "code",
   "execution_count": null,
   "id": "b92e98e5",
   "metadata": {},
   "outputs": [],
   "source": [
    "# Visualize individual fits\n",
    "\n",
    "fit_name = 'Fit 1'\n",
    "emin = 29150\n",
    "emax = 29250\n",
    "ymin = -0.05\n",
    "ymax = 1.6\n",
    "\n",
    "\n",
    "interact(my_exp.plot_LCF, spectra = my_exp.spectra.keys(),\n",
    "        fit_name = fixed(fit_name),\n",
    "        emin = fixed(emin), emax = fixed(emax), \n",
    "        ymin = fixed(ymin), ymax = fixed(ymax))\n",
    "\n"
   ]
  },
  {
   "cell_type": "markdown",
   "id": "c359d67b",
   "metadata": {},
   "source": [
    "## Step 5. Save Experiment with 'pickle' \n",
    "    Pickle - A method to save the experimental class and reopen it elsewhere."
   ]
  },
  {
   "cell_type": "code",
   "execution_count": null,
   "id": "cbb0f42f",
   "metadata": {},
   "outputs": [],
   "source": [
    "pickle_out = open(pickle_path,\"wb\")\n",
    "pickle.dump(my_exp, pickle_out)\n",
    "pickle_out.close()"
   ]
  },
  {
   "cell_type": "code",
   "execution_count": null,
   "id": "767cbb78",
   "metadata": {},
   "outputs": [],
   "source": []
  }
 ],
 "metadata": {
  "kernelspec": {
   "display_name": "Python 3 (ipykernel)",
   "language": "python",
   "name": "python3"
  },
  "language_info": {
   "codemirror_mode": {
    "name": "ipython",
    "version": 3
   },
   "file_extension": ".py",
   "mimetype": "text/x-python",
   "name": "python",
   "nbconvert_exporter": "python",
   "pygments_lexer": "ipython3",
   "version": "3.9.12"
  }
 },
 "nbformat": 4,
 "nbformat_minor": 5
}
