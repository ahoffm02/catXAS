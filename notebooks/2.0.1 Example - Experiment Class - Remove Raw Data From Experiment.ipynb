{
 "cells": [
  {
   "cell_type": "markdown",
   "id": "e8d8154d",
   "metadata": {},
   "source": [
    "# 2.0 Example - Using the Experiment Class to Bulk Process XAS Data \n",
    "\n",
    "    In this example XAS data will be read into the Experiment Class object and bulk processed.\n",
    "\n",
    "### Processing will: \n",
    "    1. Calculate μx\n",
    "    2. Energy Calibrate using Reference Channel\n",
    "    \n",
    "### Steps:\n",
    "    \n",
    "    1. Import Modules\n",
    "    2. Define Paths\n",
    "    3. Define Beamline Data Structure\n",
    "    4. Add Data to Experiment Object\n",
    "    5. Clean up Data\n",
    "    6. Calculate Absorption Spectra\n",
    "    7. Calibrate Energy and Find E0\n",
    "    8. Save Experiment with 'pickle'\n",
    "    \n",
    "\n",
    "### Things to have ready when attemtping this example:\n",
    "\n",
    "    1. Directoty containing only XAS spectra\n",
    "    2. Data structure of the XAS files\n",
    "    3. Directory and filename where to save the experiment object (pickling)\n",
    "\n",
    "\n",
    "## Step 1. Import Modules"
   ]
  },
  {
   "cell_type": "code",
   "execution_count": 1,
   "id": "5fb00a5e",
   "metadata": {},
   "outputs": [],
   "source": [
    "# File Handling\n",
    "import os\n",
    "import pickle\n",
    "\n",
    "# Wrapper for xraylarch (larch)\n",
    "os.chdir('..')\n",
    "pwd = os.getcwd()\n",
    "os.chdir('./catxas')\n",
    "import general as fcts\n",
    "import xas as xfcts\n",
    "import plot as pfcts\n",
    "import process\n",
    "import experiment as exp\n",
    "\n",
    "\n",
    "# Plot Handling\n",
    "%matplotlib inline"
   ]
  },
  {
   "cell_type": "markdown",
   "id": "099300db",
   "metadata": {},
   "source": [
    "## Step 2. Define Paths\n",
    "\n",
    "#### Modify:\n",
    "    1. pickle_dir - directory containing the pickled experiment\n",
    "    2. pickpe_name - filename of the pickled experiment (must include extension '.pickle')\n",
    "    3. scan_name - a name of one fo the spectra in the experiment, used for interrogation throughout"
   ]
  },
  {
   "cell_type": "code",
   "execution_count": 2,
   "id": "ea8d6776",
   "metadata": {},
   "outputs": [],
   "source": [
    "# Directory Containing Experiment:\n",
    "pickle_dir = os.path.join(pwd, 'sample results')\n",
    "\n",
    "# Name of Experiment (must include extension '.pickle')\n",
    "pickle_name = 'SnO2_TPR.pickle'\n",
    "\n",
    "# Scan Naame for looking at parts of the Experiment Object\n",
    "scan_name = '20210614_SnO2_H2_TPR_Sn_EXAFS_92.tra_0001'"
   ]
  },
  {
   "cell_type": "markdown",
   "id": "9b40c782",
   "metadata": {},
   "source": [
    "## Step 3. Open Saved Experiment using 'pickle'\n",
    "\n",
    "    Pickle - A method to save the experimental class and reopen it elsewhere."
   ]
  },
  {
   "cell_type": "code",
   "execution_count": 3,
   "id": "1760ff6e",
   "metadata": {},
   "outputs": [],
   "source": [
    "pickle_path = os.path.join(pickle_dir,pickle_name)\n",
    "pickle_in = open(pickle_path,\"rb\")\n",
    "my_exp = pickle.load(pickle_in)\n",
    "pickle_in.close()"
   ]
  },
  {
   "cell_type": "markdown",
   "id": "3e36e363",
   "metadata": {},
   "source": [
    "## Step 4. Remove BL data from experimental class"
   ]
  },
  {
   "cell_type": "code",
   "execution_count": 4,
   "id": "eb787096",
   "metadata": {},
   "outputs": [],
   "source": [
    "for key in my_exp.__dict__['spectra'].keys():\n",
    "    my_exp.__dict__['spectra'][key].pop('BL Data')"
   ]
  },
  {
   "cell_type": "markdown",
   "id": "adae54b2",
   "metadata": {},
   "source": [
    "## Step 5. Save Experiment with 'pickle'\n",
    "\n",
    "    Pickle - A method to save the experimental class and reopen it elsewhere."
   ]
  },
  {
   "cell_type": "code",
   "execution_count": 5,
   "id": "48766d49",
   "metadata": {},
   "outputs": [],
   "source": [
    "pickle_path = os.path.join(pickle_dir,pickle_name)\n",
    "\n",
    "pickle_out = open(pickle_path,\"wb\")\n",
    "pickle.dump(my_exp, pickle_out)\n",
    "pickle_out.close()"
   ]
  },
  {
   "cell_type": "code",
   "execution_count": null,
   "id": "fd4bb227",
   "metadata": {},
   "outputs": [],
   "source": []
  }
 ],
 "metadata": {
  "kernelspec": {
   "display_name": "Python 3 (ipykernel)",
   "language": "python",
   "name": "python3"
  },
  "language_info": {
   "codemirror_mode": {
    "name": "ipython",
    "version": 3
   },
   "file_extension": ".py",
   "mimetype": "text/x-python",
   "name": "python",
   "nbconvert_exporter": "python",
   "pygments_lexer": "ipython3",
   "version": "3.9.12"
  }
 },
 "nbformat": 4,
 "nbformat_minor": 5
}
