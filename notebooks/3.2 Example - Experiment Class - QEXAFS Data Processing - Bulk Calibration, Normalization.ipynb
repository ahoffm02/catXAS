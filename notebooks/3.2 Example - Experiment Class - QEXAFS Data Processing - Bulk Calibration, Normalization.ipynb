{
 "cells": [
  {
   "cell_type": "markdown",
   "id": "f832963e",
   "metadata": {},
   "source": [
    "# 3.2 Example - QEXAFS Data Processing - Bulk Calibration, Normalization\n",
    "\n",
    "## This notebook assumes that you have run \n",
    "    1. 3.0 Example - Experiment Class - QEXAFS Data Processing - Parameter determination using small data set\n",
    "    2. 3.1 Example - Experiment Class - QEXAFS Data Processing - Data Import, Cleanup, Process Correlation - large data sets\n",
    "\n",
    "### Goal of Workflow:\n",
    "\n",
    "    1. Open existing experiment pickle\n",
    "    2. Apply Energy Calibration and E0 parameters to data\n",
    "    3. Apply Normalization parameters to data\n",
    "    4. Save data for further processing\n",
    "    \n",
    "### Steps:\n",
    "    1. Import Modules\n",
    "    2. Define Paths\n",
    "    3. Open Saved Experiment using 'pickle'\n",
    "    4. Define Energy Calibration and E0 paramters\n",
    "    5. Apply Energy Calibration and E0 paramters to dateset\n",
    "    6. Normalize Spectra\n",
    "    7. Save Experiment with 'pickle'\n",
    "\n",
    "### Things to have ready when attemtping this example:\n",
    "    1. Directory and filename where the experiment object (pickle) is saved\n",
    "    2. Parameter valuves from Example 3.0\n",
    "\n",
    "## Step 1. Import Modules"
   ]
  },
  {
   "cell_type": "code",
   "execution_count": 1,
   "id": "e890d0a8",
   "metadata": {},
   "outputs": [],
   "source": [
    "# DO NOT MODIFY BELOW\n",
    "\n",
    "# File Handling\n",
    "import os\n",
    "import pickle\n",
    "\n",
    "# Make Plotting interactive\n",
    "from ipywidgets import interact, fixed\n",
    "\n",
    "# Wrapper for xraylarch (larch)\n",
    "os.chdir('..')\n",
    "pwd = os.getcwd()\n",
    "os.chdir('./catxas')\n",
    "import general as fcts\n",
    "import xas as xfcts\n",
    "import plot as pfcts\n",
    "import process\n",
    "import experiment as exp\n",
    "\n",
    "\n",
    "# Plot Handling\n",
    "%matplotlib inline"
   ]
  },
  {
   "cell_type": "markdown",
   "id": "9692c4e7",
   "metadata": {},
   "source": [
    "## Step 2. Define Paths\n",
    "\n",
    "#### Modify:\n",
    "    1. pickle_dir - directory where to save the experiment\n",
    "    2. pickpe_name - filename of the saved experiment (must include extension '.pickle')"
   ]
  },
  {
   "cell_type": "code",
   "execution_count": 2,
   "id": "9b761663",
   "metadata": {},
   "outputs": [],
   "source": [
    "# Directory Containing Experiment:\n",
    "pickle_dir = r'D:\\UU QEXAFS Workup\\Nina - BF31\\QEXAFS Python Workup Testing 20220922'\n",
    "\n",
    "# Name of Experiment (must include extension '.pickle')\n",
    "pickle_name = 'BF31-Fe-All.pickle'"
   ]
  },
  {
   "cell_type": "markdown",
   "id": "56a59e9f",
   "metadata": {},
   "source": [
    "## Step 3. Open Saved Experiment using 'pickle'\n",
    "\n",
    "    Pickle - A method to save the experimental class and reopen it elsewhere."
   ]
  },
  {
   "cell_type": "code",
   "execution_count": 3,
   "id": "dc0a1143",
   "metadata": {},
   "outputs": [],
   "source": [
    "# DO NOT MODIFY BELOW\n",
    "\n",
    "pickle_path = os.path.join(pickle_dir,pickle_name)\n",
    "pickle_in = open(pickle_path,\"rb\")\n",
    "my_exp = pickle.load(pickle_in)\n",
    "pickle_in.close()"
   ]
  },
  {
   "cell_type": "markdown",
   "id": "9213f7ab",
   "metadata": {},
   "source": [
    "## Step 4. Define Energy Calibration and E0 parameters\n",
    "    \n",
    "    These paramters should be pulled from Example 3.0 where delE was determiend from the reference channel and E0 was determined from the reference and the reduced sample set.\n",
    "    "
   ]
  },
  {
   "cell_type": "code",
   "execution_count": 4,
   "id": "adfc37dc",
   "metadata": {},
   "outputs": [],
   "source": [
    "# Edge Energies (E0) and Energy Shift\n",
    "Samp_Edge_params = {'e0': 7125.85,\n",
    "                    'delE': -1.25\n",
    "                   }\n",
    "\n",
    "Ref_Edge_params = {'e0': 7112,\n",
    "                   'delE': -1.25\n",
    "                  }"
   ]
  },
  {
   "cell_type": "markdown",
   "id": "6da343be",
   "metadata": {},
   "source": [
    "## 5. Apple Energy Calibration and E0 parameters to dataset"
   ]
  },
  {
   "cell_type": "code",
   "execution_count": 5,
   "id": "ca2092db",
   "metadata": {},
   "outputs": [],
   "source": [
    "# DO NOT MODIFY BELOW\n",
    "\n",
    "# Sample\n",
    "my_exp.load_params('mu Sample', Samp_Edge_params)\n",
    "\n",
    "# Reference\n",
    "my_exp.load_params('mu Reference', Ref_Edge_params)"
   ]
  },
  {
   "cell_type": "markdown",
   "id": "0c7bbf5d",
   "metadata": {},
   "source": [
    "## Step 6. Normalize Spectra\n",
    "\n",
    "### 6a. Define Normalization Paramters\n",
    "\n",
    "Values obtained from subset analysis in Example 3.0"
   ]
  },
  {
   "cell_type": "code",
   "execution_count": 6,
   "id": "6237153e",
   "metadata": {},
   "outputs": [],
   "source": [
    "#Refernece Normalization paramters, referenced to E0\n",
    "Ref_norm_params = {'pre1': -150,\n",
    "                    'pre2': -50,\n",
    "                    'norm1': 75,\n",
    "                    'norm2': 700,\n",
    "                    'nnorm': 2,\n",
    "                    'make_flat': True\n",
    "                   }\n",
    "\n",
    "#Sample Normalization paramters, referenced to E0\n",
    "Samp_norm_params = {'pre1': -150,\n",
    "                    'pre2': -50,\n",
    "                    'norm1': 75,\n",
    "                    'norm2': 700,\n",
    "                    'nnorm': 2,\n",
    "                    'make_flat': True\n",
    "                   }"
   ]
  },
  {
   "cell_type": "markdown",
   "id": "bffe7f65",
   "metadata": {},
   "source": [
    "### 6a. Import Normalization Paramters into each spectrum"
   ]
  },
  {
   "cell_type": "code",
   "execution_count": 7,
   "id": "8ecf57d7",
   "metadata": {},
   "outputs": [],
   "source": [
    "# Load normalization parameters into larch groups\n",
    "\n",
    "# DO NOT MODIFY BELOW\n",
    "\n",
    "# Sample\n",
    "my_exp.load_params('mu Sample', Samp_norm_params)\n",
    "\n",
    "# Reference\n",
    "my_exp.load_params('mu Reference', Ref_norm_params)"
   ]
  },
  {
   "cell_type": "markdown",
   "id": "1754dfc9",
   "metadata": {},
   "source": [
    "### 6c. Normalize Spectra"
   ]
  },
  {
   "cell_type": "code",
   "execution_count": 8,
   "id": "ce6b1ee7",
   "metadata": {},
   "outputs": [],
   "source": [
    "# DO NOT MODIFY BELOW\n",
    "\n",
    "# Reference\n",
    "my_exp.normalize_spectra('mu Reference')\n",
    "\n",
    "# Sample\n",
    "my_exp.normalize_spectra('mu Sample')"
   ]
  },
  {
   "cell_type": "markdown",
   "id": "b12a0b7f",
   "metadata": {},
   "source": [
    "### 6d. Remove poorly normalized Spectra"
   ]
  },
  {
   "cell_type": "code",
   "execution_count": 9,
   "id": "f07122c2",
   "metadata": {},
   "outputs": [
    {
     "name": "stdout",
     "output_type": "stream",
     "text": [
      "E̲d̲g̲e̲ ̲S̲t̲e̲p̲ ̲C̲h̲a̲r̲a̲c̲t̲e̲r̲i̲s̲t̲i̲c̲s̲:\n",
      "\tSpectra interrogated: 2543\n",
      "\tLargest Edge Step: 1.095\n",
      "\tSmallest Edge Step: 0.212\n",
      "\tMean Edge Step: 0.225\n",
      "\tDeviation in Edge Step: 0.018\n",
      "\n",
      "\n",
      "P̲r̲o̲b̲l̲e̲m̲a̲t̲i̲c̲ ̲S̲p̲e̲c̲t̲r̲a̲:\n",
      "\tNumber of Spectra: 1\n",
      "\t\t20211119_ME_BF31_Fe_B_03086\n",
      "                   1.095384\n"
     ]
    },
    {
     "data": {
      "image/png": "[encoded data removed]",
      "text/plain": [
       "<Figure size 432x288 with 1 Axes>"
      ]
     },
     "metadata": {
      "needs_background": "light"
     },
     "output_type": "display_data"
    }
   ],
   "source": [
    "# Look for spectra with edge steps smaller or larger than X standard deviations from the mean\n",
    "\n",
    "deviations = 3\n",
    "\n",
    "# DO NOT MODIFY BELOW\n",
    "bad_spectra = my_exp.edge_step_screen(deviations = deviations, print_summary = True, show_problem_spectra = True)"
   ]
  },
  {
   "cell_type": "code",
   "execution_count": 10,
   "id": "dd533d42",
   "metadata": {},
   "outputs": [
    {
     "name": "stdout",
     "output_type": "stream",
     "text": [
      "Removing 20211119_ME_BF31_Fe_B_03086\n",
      "\tRemoved from Spectra\n",
      "\tRemoved from the summary: \"XAS Spectra Files\n",
      "\tRemoved from the summary: \"XAS Spectra Process Params\"\n",
      "Spectra Removed list has been updated\n"
     ]
    }
   ],
   "source": [
    "# Remove the bad spectra from the dataset\n",
    "\n",
    "# DO NOT MODIFY BELOW\n",
    "\n",
    "my_exp.remove_bad_spectra(bad_spectra['Filename'])"
   ]
  },
  {
   "cell_type": "markdown",
   "id": "8ec6d900",
   "metadata": {},
   "source": [
    "### 6e. Visualize Normalized Spectra"
   ]
  },
  {
   "cell_type": "code",
   "execution_count": 11,
   "id": "f1bc7419",
   "metadata": {},
   "outputs": [
    {
     "data": {
      "image/png": "[encoded data removed]",
      "text/plain": [
       "<Figure size 432x360 with 1 Axes>"
      ]
     },
     "metadata": {
      "needs_background": "light"
     },
     "output_type": "display_data"
    },
    {
     "data": {
      "image/png": "[encoded data removed]",
      "text/plain": [
       "<Figure size 432x360 with 1 Axes>"
      ]
     },
     "metadata": {
      "needs_background": "light"
     },
     "output_type": "display_data"
    }
   ],
   "source": [
    "## VERY TIME INTENSIVE ##\n",
    "\n",
    "# MODIFY: emin, emax \n",
    "\n",
    "emin = 7000\n",
    "emax = 7300 \n",
    "\n",
    "\n",
    "# DO NOT MODIFY BELOW\n",
    "\n",
    "# Sample\n",
    "\n",
    "S_groups = []\n",
    "\n",
    "\n",
    "for key in my_exp.spectra.keys():\n",
    "    S_groups.append(my_exp.spectra[key]['Absorption Spectra']['mu Sample'])\n",
    "    \n",
    "pfcts.plot_XANES(S_groups, emin, emax, spectra = 'flat', \n",
    "                 deriv = False, e0 = None, e0_line = False, \n",
    "                 overlay = True, use_legend = False)\n",
    "\n",
    "# Reference\n",
    "    \n",
    "R_groups = []\n",
    "\n",
    "for key in my_exp.spectra.keys():\n",
    "    R_groups.append(my_exp.spectra[key]['Absorption Spectra']['mu Reference'])\n",
    "\n",
    "pfcts.plot_XANES(R_groups, emin, emax, spectra = 'flat', \n",
    "                 deriv = False, e0 = None, e0_line = False, \n",
    "                 overlay = True, use_legend = False)"
   ]
  },
  {
   "cell_type": "markdown",
   "id": "ced228bf",
   "metadata": {},
   "source": [
    "## Step 7. Save Experiment with 'pickle' \n",
    "    Pickle - A method to save the experimental class and reopen it elsewhere."
   ]
  },
  {
   "cell_type": "code",
   "execution_count": 12,
   "id": "231cc8eb",
   "metadata": {},
   "outputs": [],
   "source": [
    "# DO NOT MODIFY BELOW\n",
    "\n",
    "pickle_out = open(pickle_path,\"wb\")\n",
    "pickle.dump(my_exp, pickle_out)\n",
    "pickle_out.close()"
   ]
  },
  {
   "cell_type": "markdown",
   "id": "0ff613bb",
   "metadata": {},
   "source": [
    "# Do not forget to kill this kernal to prevent pileup on the RAM"
   ]
  }
 ],
 "metadata": {
  "kernelspec": {
   "display_name": "Python 3 (ipykernel)",
   "language": "python",
   "name": "python3"
  },
  "language_info": {
   "codemirror_mode": {
    "name": "ipython",
    "version": 3
   },
   "file_extension": ".py",
   "mimetype": "text/x-python",
   "name": "python",
   "nbconvert_exporter": "python",
   "pygments_lexer": "ipython3",
   "version": "3.9.12"
  }
 },
 "nbformat": 4,
 "nbformat_minor": 5
}
