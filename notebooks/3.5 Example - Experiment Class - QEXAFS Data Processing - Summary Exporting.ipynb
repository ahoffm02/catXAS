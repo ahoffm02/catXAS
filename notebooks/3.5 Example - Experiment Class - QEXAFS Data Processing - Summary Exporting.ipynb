{
 "cells": [
  {
   "cell_type": "markdown",
   "id": "7a3ad101",
   "metadata": {},
   "source": [
    "# 3.5 Example - QEXAFS Data Processing - Export Summary Data\n",
    "\n",
    "## Parts of this notebook assumes that you have run:\n",
    "\n",
    "    1. 3.1 Example - Experiment Class - QEXAFS Data Processing - Data Import, Cleanup, Process Correlation\n",
    "    2. 3.3 Example - Experiment Class - QEXAFS Data Processing - XAS Interpolation-Export for PCA MCR-ALS\n",
    "\n",
    "### Goal of Workflow:\n",
    "\n",
    "    1. Open existing experiment pickle\n",
    "    2. Save Spectra-Process Correlation Table\n",
    "    3. Save Interpoalted XANES Spectra\n",
    "    \n",
    "### Steps:\n",
    "    1. Import Modules\n",
    "    2. Define Paths\n",
    "    3. Open Saved Experiment using 'pickle'\n",
    "    4. Save Spectra-Process Correlation Table [Requires 3.1]\n",
    "    5. Save Interpolated XANES Spectra [Requires 3.3]\n",
    "\n",
    "### Things to have ready when attemtping this example:\n",
    "    1. Directory and filename where the experiment object (pickle) is saved\n",
    "    2. Directory where to save exported files\n",
    "    3. Filenames for the correlation table and the interpolated spectra table\n",
    "\n",
    "## Step 1. Import Modules"
   ]
  },
  {
   "cell_type": "code",
   "execution_count": 1,
   "id": "82cbb6d7",
   "metadata": {},
   "outputs": [],
   "source": [
    "# DO NOT MODIFY BELOW\n",
    "\n",
    "# File Handling\n",
    "import os\n",
    "import pickle\n",
    "\n",
    "# Make Plotting interactive\n",
    "from ipywidgets import interact, fixed\n",
    "\n",
    "# Wrapper for xraylarch (larch)\n",
    "os.chdir('..')\n",
    "pwd = os.getcwd()\n",
    "os.chdir('./catxas')\n",
    "import general as fcts\n",
    "import xas as xfcts\n",
    "import plot as pfcts\n",
    "import process\n",
    "import experiment as exp\n",
    "\n",
    "\n",
    "# Plot Handling\n",
    "%matplotlib inline"
   ]
  },
  {
   "cell_type": "markdown",
   "id": "d4df1f33",
   "metadata": {},
   "source": [
    "## Step 2. Define Paths\n",
    "\n",
    "#### Modify:\n",
    "    1. pickle_dir - directory where to save the experiment\n",
    "    2. pickpe_name - filename of the saved experiment (must include extension '.pickle')\n",
    "    3. output_dir - where to save results tables\n",
    "    4. fname_correlation - spectra-process correlation data file name\n",
    "    5. fname_interpXAS - interpolated and normalized spectra table file name"
   ]
  },
  {
   "cell_type": "code",
   "execution_count": 2,
   "id": "d58d7248",
   "metadata": {},
   "outputs": [],
   "source": [
    "# Directory Containing Experiment:\n",
    "pickle_dir = r'C:\\Users\\ashoff\\Desktop\\Preefer Test Data\\Python Results'\n",
    "\n",
    "# Name of Experiment (must include extension '.pickle')\n",
    "pickle_name = 'BF31-Fe-B.pickle'\n",
    "\n",
    "# Folder where results will be saved\n",
    "output_dir = r'D:\\UU QEXAFS Workup\\Nina - BF31\\QEXAFS Python Workup Testing 20220922'\n",
    "\n",
    "# File name for saving spectra-process correlation data (extension can be left blank or .csv/.txt)\n",
    "fname_correlation = 'BF31-Fe-All_Process_Correlation'\n",
    "\n",
    "# File name to save normalized and interpolated XAS spectra\n",
    "fname_interpXAS = 'BF31-Fe-All_NormXANES'"
   ]
  },
  {
   "cell_type": "markdown",
   "id": "481a9a58",
   "metadata": {},
   "source": [
    "## Step 3. Open Saved Experiment using 'pickle'\n",
    "\n",
    "    Pickle - A method to save the experimental class and reopen it elsewhere."
   ]
  },
  {
   "cell_type": "code",
   "execution_count": 3,
   "id": "9d339021",
   "metadata": {},
   "outputs": [],
   "source": [
    "# DO NOT MODIFY BELOW\n",
    "\n",
    "pickle_path = os.path.join(pickle_dir,pickle_name)\n",
    "pickle_in = open(pickle_path,\"rb\")\n",
    "my_exp = pickle.load(pickle_in)\n",
    "pickle_in.close()"
   ]
  },
  {
   "cell_type": "markdown",
   "id": "ddd85ddc",
   "metadata": {},
   "source": [
    "## Step 4. Save Spectra-Process Correlation Table to csv file"
   ]
  },
  {
   "cell_type": "code",
   "execution_count": 9,
   "id": "52475e11",
   "metadata": {},
   "outputs": [
    {
     "name": "stdout",
     "output_type": "stream",
     "text": [
      "Process Parameter Data Saved\n"
     ]
    }
   ],
   "source": [
    "# DO NOT MODIFY BELOW\n",
    "my_exp.save_processparams(os.path.join(output_dir,fname_correlation))"
   ]
  },
  {
   "cell_type": "markdown",
   "id": "decbd249",
   "metadata": {},
   "source": [
    "## Step 5. Save Interpolated spectra to csv"
   ]
  },
  {
   "cell_type": "code",
   "execution_count": null,
   "id": "68857daf",
   "metadata": {},
   "outputs": [],
   "source": [
    "# DO NOT MODIFY BELOW\n",
    "my_exp.save_interpXAS(os.path.join(output_dir,fname_interpXAS))"
   ]
  },
  {
   "cell_type": "code",
   "execution_count": null,
   "id": "29fed19e",
   "metadata": {},
   "outputs": [],
   "source": []
  }
 ],
 "metadata": {
  "kernelspec": {
   "display_name": "Python 3 (ipykernel)",
   "language": "python",
   "name": "python3"
  },
  "language_info": {
   "codemirror_mode": {
    "name": "ipython",
    "version": 3
   },
   "file_extension": ".py",
   "mimetype": "text/x-python",
   "name": "python",
   "nbconvert_exporter": "python",
   "pygments_lexer": "ipython3",
   "version": "3.9.12"
  }
 },
 "nbformat": 4,
 "nbformat_minor": 5
}
