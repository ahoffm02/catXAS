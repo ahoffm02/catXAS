{
 "cells": [
  {
   "cell_type": "markdown",
   "id": "c2c1ceb5",
   "metadata": {},
   "source": [
    "# 2.0 Example - Using the Experiment Class to Bulk Process XAS Data \n",
    "\n",
    "    In this example XAS data will be read into the Experiment Class object and bulk processed.\n",
    "\n",
    "### Processing will: \n",
    "    1. Calculate μx\n",
    "    2. Energy Calibrate using Reference Channel\n",
    "    \n",
    "### Steps:\n",
    "    \n",
    "    1. Import Modules\n",
    "    2. Define Paths\n",
    "    3. Define Beamline Data Structure\n",
    "    4. Add Data to Experiment Object\n",
    "    5. Clean up Data\n",
    "    6. Calculate Absorption Spectra\n",
    "    7. Calibrate Energy and Find E0\n",
    "    8. Save Experiment with 'pickle'\n",
    "    \n",
    "\n",
    "### Things to have ready when attemtping this example:\n",
    "\n",
    "    1. Directoty containing only XAS spectra\n",
    "    2. Data structure of the XAS files\n",
    "    3. Directory and filename where to save the experiment object (pickling)\n",
    "\n",
    "\n",
    "## Step 1. Import Modules"
   ]
  },
  {
   "cell_type": "code",
   "execution_count": 1,
   "id": "4a194a24",
   "metadata": {},
   "outputs": [],
   "source": [
    "# File Handling\n",
    "import os\n",
    "import pickle\n",
    "\n",
    "# Wrapper for xraylarch (larch)\n",
    "os.chdir('..')\n",
    "pwd = os.getcwd()\n",
    "os.chdir('./catxas')\n",
    "import general as fcts\n",
    "import xas as xfcts\n",
    "import plot as pfcts\n",
    "import process\n",
    "import experiment as exp"
   ]
  },
  {
   "cell_type": "markdown",
   "id": "930b0418",
   "metadata": {},
   "source": [
    "## Step 2. Define Paths\n",
    "\n",
    "#### Modify:\n",
    "    1. data_dir - directory containing XAS spetra ONLY!\n",
    "    2. scan_name - a name of one fo the spectra in the experiment, used for interrogation throughout\n",
    "    3. pickle_dir - directory where to save the experiment\n",
    "    4. pickpe_name - filename to save the experiment (must include extension '.pickle')\n"
   ]
  },
  {
   "cell_type": "code",
   "execution_count": 2,
   "id": "3d2776a6",
   "metadata": {},
   "outputs": [],
   "source": [
    "# Folder containing ONLY XAS spectra\n",
    "data_dir = os.path.join(pwd, 'sample data\\Raw Data')\n",
    "\n",
    "# Scan naame of one of the XAS spectra - used for inspection of the experiment groups\n",
    "scan_name = '20210614_SnO2_H2_TPR_Sn_EXAFS_92.tra_0001'\n",
    "\n",
    "# Directory where to save the experiment:\n",
    "pickle_dir = os.path.join(pwd, 'sample results')\n",
    "\n",
    "# File name to save the sxperiment (must include extension '.pickle')\n",
    "pickle_name = 'SnO2_TPR.pickle'"
   ]
  },
  {
   "cell_type": "markdown",
   "id": "a84ab776",
   "metadata": {},
   "source": [
    "## Step 3. Define Beamline Data Structure\n",
    "\n",
    "Common data formats for SSRL beamlines can be found in the \"BL specific XAS data structures.ipynb\" notebook."
   ]
  },
  {
   "cell_type": "code",
   "execution_count": 3,
   "id": "112e7287",
   "metadata": {},
   "outputs": [],
   "source": [
    "### Define the layout of the xas data file and how spectra are calcualted\n",
    "xas_data_structure = {\n",
    "    'time stamp': True,\n",
    "    'time on line': 5,\n",
    "    'time format': '# This Scan Create Date:\\t%m/%d/%Y %I:%M:%S %p ',\n",
    "    'padded scan numbers': True,\n",
    "    'column names': ['Encoder', 'Energy', 'ADC_01', 'ADC_02', 'ADC_03', 'ADC_04', 'ADC_05', 'ADC_06', 'ADC_07', 'ADC_08'],\n",
    "    'energy column' : 'Energy', # Energy [eV]\n",
    "    'sample numerator': 'ADC_01', # I0\n",
    "    'sample denominator': 'ADC_02', # I1\n",
    "    'sample ln': True,\n",
    "    'sample invert': False,\n",
    "    'reference numerator': 'ADC_02', # I1\n",
    "    'reference denominator': 'ADC_03', # I2\n",
    "    'reference ln': True,\n",
    "    'reference invert': False,\n",
    "    'is QEXAFS': False\n",
    "}"
   ]
  },
  {
   "cell_type": "markdown",
   "id": "ca7b0355",
   "metadata": {},
   "source": [
    "## Step 4. Add Data to Experiment Object\n",
    "\n",
    "    The Experiment class is a dictionary-like obect that is used to store XAS data, process data streams, and correlation and fitting results.\n",
    "    \n",
    "### Major steps for adding data to the Experiment class:\n",
    "    a. Create Experiment Class\n",
    "    b. Load XAS data into the Experiment object\n",
    "    \n",
    "\n",
    "### 4a. Create Experiment Class\n",
    "\n",
    "#### MODIFY:\n",
    "    1. exp_name - unique identifier for the experiment object"
   ]
  },
  {
   "cell_type": "code",
   "execution_count": 4,
   "id": "98ce1032",
   "metadata": {},
   "outputs": [],
   "source": [
    "# Uniquie name for the experiment\n",
    "exp_name = 'SnO2_H2Reduction'\n",
    "\n",
    "# Create the Experimental Class\n",
    "my_exp = exp.Experiment(exp_name)"
   ]
  },
  {
   "cell_type": "markdown",
   "id": "4c6e1852",
   "metadata": {},
   "source": [
    "#### Inspection tool to show contents of the Experiment object"
   ]
  },
  {
   "cell_type": "code",
   "execution_count": 5,
   "id": "a95b0beb",
   "metadata": {},
   "outputs": [
    {
     "name": "stdout",
     "output_type": "stream",
     "text": [
      "keys in the experiment object:\n",
      "\tname - <class 'str'>\n",
      "\tprocess_params - <class 'dict'>\n",
      "\tspectra - <class 'dict'>\n",
      "\tanalysis - <class 'dict'>\n",
      "\tsummary - <class 'dict'>\n"
     ]
    }
   ],
   "source": [
    "# View keys created inside it\n",
    "print('keys in the experiment object:')\n",
    "for key in my_exp.__dict__.keys():\n",
    "    print(f'\\t{key} - {type(my_exp.__dict__[key])}')"
   ]
  },
  {
   "cell_type": "markdown",
   "id": "84a3b4de",
   "metadata": {},
   "source": [
    "### 4b. Load XAS data into the Experiment object"
   ]
  },
  {
   "cell_type": "code",
   "execution_count": 6,
   "id": "bbfba11c",
   "metadata": {
    "scrolled": true
   },
   "outputs": [
    {
     "ename": "AttributeError",
     "evalue": "module 'larch' has no attribute 'io'",
     "output_type": "error",
     "traceback": [
      "\u001b[1;31m---------------------------------------------------------------------------\u001b[0m",
      "\u001b[1;31mAttributeError\u001b[0m                            Traceback (most recent call last)",
      "Input \u001b[1;32mIn [6]\u001b[0m, in \u001b[0;36m<cell line: 2>\u001b[1;34m()\u001b[0m\n\u001b[0;32m      1\u001b[0m \u001b[38;5;66;03m# Add raw data into spectra files\u001b[39;00m\n\u001b[1;32m----> 2\u001b[0m \u001b[43mmy_exp\u001b[49m\u001b[38;5;241;43m.\u001b[39;49m\u001b[43mimport_spectra_data\u001b[49m\u001b[43m(\u001b[49m\u001b[43mdata_dir\u001b[49m\u001b[43m,\u001b[49m\u001b[43m \u001b[49m\u001b[43mxas_data_structure\u001b[49m\u001b[43m,\u001b[49m\u001b[43m \u001b[49m\u001b[43mprint_name\u001b[49m\u001b[43m \u001b[49m\u001b[38;5;241;43m=\u001b[39;49m\u001b[43m \u001b[49m\u001b[38;5;28;43;01mFalse\u001b[39;49;00m\u001b[43m)\u001b[49m\n",
      "File \u001b[1;32m~\\OneDrive - SLAC National Accelerator Laboratory\\Python Codes\\GitHub\\catxas\\catxas\\experiment.py:190\u001b[0m, in \u001b[0;36mExperiment.import_spectra_data\u001b[1;34m(self, xas_data_directory, xas_data_structure, print_name)\u001b[0m\n\u001b[0;32m    186\u001b[0m col_names \u001b[38;5;241m=\u001b[39m \u001b[38;5;28mself\u001b[39m\u001b[38;5;241m.\u001b[39mspectra[filename][\u001b[38;5;124m'\u001b[39m\u001b[38;5;124mXAS Data Structure\u001b[39m\u001b[38;5;124m'\u001b[39m][\u001b[38;5;124m'\u001b[39m\u001b[38;5;124mcolumn names\u001b[39m\u001b[38;5;124m'\u001b[39m]\n\u001b[0;32m    188\u001b[0m energy_name \u001b[38;5;241m=\u001b[39m xas_data_structure[\u001b[38;5;124m'\u001b[39m\u001b[38;5;124menergy column\u001b[39m\u001b[38;5;124m'\u001b[39m]\n\u001b[1;32m--> 190\u001b[0m \u001b[38;5;28mself\u001b[39m\u001b[38;5;241m.\u001b[39mspectra[filename][\u001b[38;5;124m'\u001b[39m\u001b[38;5;124mBL Data\u001b[39m\u001b[38;5;124m'\u001b[39m] \u001b[38;5;241m=\u001b[39m \u001b[43mlarch\u001b[49m\u001b[38;5;241;43m.\u001b[39;49m\u001b[43mio\u001b[49m\u001b[38;5;241m.\u001b[39mread_ascii(file_path, labels\u001b[38;5;241m=\u001b[39mcol_names)\n\u001b[0;32m    192\u001b[0m \u001b[38;5;28mself\u001b[39m\u001b[38;5;241m.\u001b[39mspectra[filename][\u001b[38;5;124m'\u001b[39m\u001b[38;5;124mBL Data\u001b[39m\u001b[38;5;124m'\u001b[39m]\u001b[38;5;241m.\u001b[39m\u001b[38;5;18m__name__\u001b[39m \u001b[38;5;241m=\u001b[39m filename\n\u001b[0;32m    194\u001b[0m \u001b[38;5;66;03m### FLIP FUNCTION TO TEST AND CORRECT BACKWARDS DATA\u001b[39;00m\n\u001b[0;32m    195\u001b[0m \n\u001b[0;32m    196\u001b[0m \u001b[38;5;66;03m# Determine the enregy values at teh start/end fo the dataset\u001b[39;00m\n",
      "\u001b[1;31mAttributeError\u001b[0m: module 'larch' has no attribute 'io'"
     ]
    }
   ],
   "source": [
    "# Add raw data into spectra files\n",
    "my_exp.import_spectra_data(data_dir, xas_data_structure, print_name = False)"
   ]
  },
  {
   "cell_type": "markdown",
   "id": "3ba379a6",
   "metadata": {},
   "source": [
    "#### Inspection tools to show what and where things are stored in the experiment object\n",
    "    1. experiment.spectra = dictionary of spectra dictionaries for each spectrum uploaded\n",
    "    2. experiment.spectra[key] = spectrum dictionary containing details to the X-ray data uploaded\n",
    "        a. XAS Data Structure is preserved based upon what was uploaded\n",
    "        b. BL Data is a larch group containing the extracted data from the spectrum file\n",
    "        \n",
    "#### Uncomment out all but first lines to see contents"
   ]
  },
  {
   "cell_type": "code",
   "execution_count": null,
   "id": "fe28057b",
   "metadata": {
    "scrolled": true
   },
   "outputs": [],
   "source": [
    "# 1. Show contents (keys) of experiment.spectra\n",
    "\n",
    "print('experiment.spectra contains the following keys:')\n",
    "for key in my_exp.spectra.keys():\n",
    "    print(f'\\t{key}')"
   ]
  },
  {
   "cell_type": "code",
   "execution_count": null,
   "id": "14d28368",
   "metadata": {},
   "outputs": [],
   "source": [
    "# 2. Show contents (keys) for a spectrum dictionary (scan_name, defined above)\n",
    "\n",
    "print('experiment.spectra[scan_name] contains the following keys with types:')\n",
    "for key in my_exp.spectra[scan_name].keys():\n",
    "    print(f'\\t{key+ \",\":20} type: {type(my_exp.spectra[scan_name][key])}')"
   ]
  },
  {
   "cell_type": "code",
   "execution_count": null,
   "id": "218c7acf",
   "metadata": {},
   "outputs": [],
   "source": [
    "# 2a. Show contents of the XAS Data Structured within a given spectum dictionary\n",
    "\n",
    "print(\"experiment.spectra[scan_name]['XAS Data Structure'] contains the following keys with types:\")\n",
    "for key in my_exp.spectra[scan_name]['XAS Data Structure'].keys():\n",
    "    print(f'\\t{key+ \",\":20} Values: {my_exp.spectra[scan_name][\"XAS Data Structure\"][key]}')"
   ]
  },
  {
   "cell_type": "code",
   "execution_count": null,
   "id": "4207f953",
   "metadata": {},
   "outputs": [],
   "source": [
    "# 2b. Show contents of the BL Data stored within a given spectum dictionary\n",
    "\n",
    "my_exp.spectra[scan_name]['BL Data']"
   ]
  },
  {
   "cell_type": "markdown",
   "id": "aca8b8cc",
   "metadata": {},
   "source": [
    "## Step 5. Clean up Data\n",
    "\n",
    "    If spectra were collected using CXAS or QXAS there is a chance that the raw data may need cleaning up to remove duplicate data poins or nan/inf values.\n",
    "    \n",
    "#### STILL IN DEVELOPMENT"
   ]
  },
  {
   "cell_type": "code",
   "execution_count": null,
   "id": "9ea726e0",
   "metadata": {},
   "outputs": [],
   "source": [
    "my_exp.organize_RawData(remove_duplicates=True, remove_nan_inf=False, remove_zeros=False) # remove_nan_inf & remove_zeros does not work yet"
   ]
  },
  {
   "cell_type": "markdown",
   "id": "2227f222",
   "metadata": {},
   "source": [
    "## Step 6. Calculate Absorption Spectra\n",
    "\n",
    "#### MODIFY:\n",
    "    1. sample_spectra - True = calcualtes sample mux, False = does not calcualte sample mux\n",
    "    2. ref_spectra - True = calcualtes reference mux, False = does not calcualte reference mux"
   ]
  },
  {
   "cell_type": "code",
   "execution_count": null,
   "id": "cf0d1ab5",
   "metadata": {},
   "outputs": [],
   "source": [
    "# Calcualte mux for Sample:\n",
    "sample_spectra = True\n",
    "\n",
    "# Calcualte mux for Reference:\n",
    "ref_spectra = True\n",
    "\n",
    "my_exp.calculate_spectra(sample_spectra = sample_spectra, ref_spectra = ref_spectra)"
   ]
  },
  {
   "cell_type": "markdown",
   "id": "c7a3c3b3",
   "metadata": {},
   "source": [
    "#### Inspection tools to show results of absorption spectra calculation\n",
    "    1. Spectrum dictionary containing details to the X-ray data uploaded - experiment.spectra[scan_name]\n",
    "    2. Larch group for a sample spectra - experiment.spectra[scan_name]['Absorption Spectra']['mu sample']\n",
    "    3. Visuaization of an raw absorption spectrum\n",
    "        \n",
    "#### Uncomment out all but first lines to see contents"
   ]
  },
  {
   "cell_type": "code",
   "execution_count": null,
   "id": "f6a4716f",
   "metadata": {},
   "outputs": [],
   "source": [
    "# 1. Show contents (keys) for a spectrum dictionary (scan_name, defined above)\n",
    "\n",
    "print('experiment.spectra[scan_name] contains the following keys with types:')\n",
    "for key in my_exp.spectra[scan_name].keys():\n",
    "    print(f'\\t{key+ \",\":20} tyep: {type(my_exp.spectra[scan_name][key])}')"
   ]
  },
  {
   "cell_type": "code",
   "execution_count": null,
   "id": "020c0ce3",
   "metadata": {},
   "outputs": [],
   "source": [
    "# 2. Show contents of 'Absorption Spectra' - 'mu Sample'\n",
    "\n",
    "my_exp.spectra[scan_name]['Absorption Spectra']['mu Sample']"
   ]
  },
  {
   "cell_type": "code",
   "execution_count": null,
   "id": "e2c8c331",
   "metadata": {},
   "outputs": [],
   "source": [
    "# 3. Visualize absorption spectra of the sample and reference for scan_name.\n",
    "\n",
    "# MODIFY: emin, emax\n",
    "\n",
    "emin = 29150\n",
    "emax = 29300\n",
    "\n",
    "Samp_group = my_exp.spectra[scan_name]['Absorption Spectra']['mu Sample']\n",
    "Ref_group = my_exp.spectra[scan_name]['Absorption Spectra']['mu Reference']\n",
    " \n",
    "pfcts.plot_XANES([Samp_group, Ref_group], emin, emax, spectra = 'mu', \n",
    "                 deriv = False, e0 = None, e0_line = False, overlay = False, \n",
    "                 filtering = True, window_length = 5, polyorder = 2)"
   ]
  },
  {
   "cell_type": "markdown",
   "id": "f37e859b",
   "metadata": {},
   "source": [
    "## Step 7. Calibrate Energy and Find E0\n",
    "\n",
    "    Calibration has 2 steps:\n",
    "        a. Find the edge of the reference spectra and determine the energy shift (delE)\n",
    "        b. find the E0 value for the sample spectra\n",
    "\n",
    "    Calibration shoudl be perfromed with the reference channel if possible.\n",
    "    Calibration can be skipped, however a second step will be needed to set the E0 value for the appropriate spectra [Commented out in example]\n",
    "\n",
    "    Calibration will find the first inflection point of the data based upon the range set by the suppled values of Ref_E0 value and energy_range.\n",
    "        Range = Ref_E0 +/- energy_range\n",
    "\n",
    "    For the reference and the sample, the use_mean parameter will set each spectrum to the mean E0 value found. This is useful as there is no data smoothing on the reference, and will pick an average value for the sample if it is transient.\n",
    "\n",
    "### Major steps for adding data to the Experiment class:\n",
    "    a. Calibrate Reference Spectra\n",
    "    b. Find Sample E0\n",
    "\n",
    "\n",
    "### 7a. Calibrate Reference Spectra\n",
    "\n",
    "#### MODIFY:\n",
    "    1. Ref_E0 - set to known energy value for the reference channel\n",
    "    2. energy_range - how far to look around the theiretical edge to find an inflection point\n",
    "    3. use_mean - True or False, determiend if each spetra has a unique E0 or if it shared"
   ]
  },
  {
   "cell_type": "code",
   "execution_count": null,
   "id": "73f6c50d",
   "metadata": {},
   "outputs": [],
   "source": [
    "Ref_E0 = 29200\n",
    "energy_range = 20\n",
    "use_mean = True\n",
    "\n",
    "my_exp.calibrate_reference_spectra(Ref_E0, energy_range=20, use_mean = use_mean)"
   ]
  },
  {
   "cell_type": "markdown",
   "id": "6e2b4411",
   "metadata": {},
   "source": [
    "### 7b. Find Sample E0\n",
    "\n",
    "#### MODIFY:\n",
    "    1. Samp_e0 - approximate edge position of the sample\n",
    "    2. energy_range - how far to look around the theiretical edge to find an inflection point\n",
    "    3. use_mean - True or False, determiend if each spetra has a unique E0 or if it shared"
   ]
  },
  {
   "cell_type": "code",
   "execution_count": null,
   "id": "b3276283",
   "metadata": {},
   "outputs": [],
   "source": [
    "Samp_E0 = 29200\n",
    "energy_range = 20\n",
    "use_mean = True\n",
    "\n",
    "my_exp.find_sample_e0(Samp_E0, energy_range = energy_range, use_mean = use_mean)"
   ]
  },
  {
   "cell_type": "markdown",
   "id": "2a92d66c",
   "metadata": {},
   "source": [
    "## Step 8. Save Experiment with 'pickle'\n",
    "\n",
    "    Pickle - A method to save the experimental class and reopen it elsewhere."
   ]
  },
  {
   "cell_type": "code",
   "execution_count": null,
   "id": "927f4380",
   "metadata": {},
   "outputs": [],
   "source": [
    "pickle_path = os.path.join(pickle_dir,pickle_name)\n",
    "\n",
    "pickle_out = open(pickle_path,\"wb\")\n",
    "pickle.dump(my_exp, pickle_out)\n",
    "pickle_out.close()"
   ]
  },
  {
   "cell_type": "code",
   "execution_count": null,
   "id": "642035b4",
   "metadata": {},
   "outputs": [],
   "source": []
  }
 ],
 "metadata": {
  "kernelspec": {
   "display_name": "Python 3 (ipykernel)",
   "language": "python",
   "name": "python3"
  },
  "language_info": {
   "codemirror_mode": {
    "name": "ipython",
    "version": 3
   },
   "file_extension": ".py",
   "mimetype": "text/x-python",
   "name": "python",
   "nbconvert_exporter": "python",
   "pygments_lexer": "ipython3",
   "version": "3.9.12"
  }
 },
 "nbformat": 4,
 "nbformat_minor": 5
}
