{
 "cells": [
  {
   "cell_type": "markdown",
   "id": "7a3ad101",
   "metadata": {},
   "source": [
    "# 3.3 Example - Experiment Class - QEXAFS Data Processing - XAS Interpolation-Export for PCA MCR-ALS\n",
    "\n",
    "## This notebook assumes that you have run either: \n",
    "    1. 3.0 Example - Experiment Class - QEXAFS Data Processing - Parameter determination using small data set\n",
    "    2. 3.2 Example - QEXAFS Data Processing - Bulk Calibration, Normalization\n",
    "\n",
    "### Goal of Workflow:\n",
    "\n",
    "    1. Open existing experiment pickle\n",
    "    2. Determine usable interpolation range\n",
    "    3. Interpolate XAS Data\n",
    "    \n",
    "### Steps:\n",
    "    1. Import Modules\n",
    "    2. Define Paths\n",
    "    3. Open Saved Experiment using 'pickle'\n",
    "    4. Interpolate XAS Data\n",
    "    5. Save Experiment with 'pickle'\n",
    "\n",
    "### Things to have ready when attemtping this example:\n",
    "    1. Directory and filename where the experiment object (pickle) is saved\n",
    "    2. Parameter valuves from Example 3.0\n",
    "\n",
    "## Step 1. Import Modules"
   ]
  },
  {
   "cell_type": "code",
   "execution_count": 1,
   "id": "82cbb6d7",
   "metadata": {},
   "outputs": [],
   "source": [
    "# DO NOT MODIFY BELOW\n",
    "\n",
    "# File Handling\n",
    "import os\n",
    "import pickle\n",
    "\n",
    "# Make Plotting interactive\n",
    "from ipywidgets import interact, fixed\n",
    "\n",
    "# Wrapper for xraylarch (larch)\n",
    "os.chdir('..')\n",
    "pwd = os.getcwd()\n",
    "os.chdir('./catxas')\n",
    "import general as fcts\n",
    "import xas as xfcts\n",
    "import plot as pfcts\n",
    "import process\n",
    "import experiment as exp\n",
    "\n",
    "\n",
    "# Plot Handling\n",
    "%matplotlib inline"
   ]
  },
  {
   "cell_type": "markdown",
   "id": "d4df1f33",
   "metadata": {},
   "source": [
    "## Step 2. Define Paths\n",
    "\n",
    "#### Modify:\n",
    "    1. pickle_dir - directory where to save the experiment\n",
    "    2. pickpe_name - filename of the saved experiment (must include extension '.pickle')"
   ]
  },
  {
   "cell_type": "code",
   "execution_count": 1,
   "id": "d58d7248",
   "metadata": {},
   "outputs": [],
   "source": [
    "# Directory Containing Experiment:\n",
    "pickle_dir = r'D:\\UU QEXAFS Workup\\Nina - BF31\\QEXAFS Python Workup Testing 20220922'\n",
    "\n",
    "# Name of Experiment (must include extension '.pickle')\n",
    "pickle_name = 'BF31-Fe-All.pickle'"
   ]
  },
  {
   "cell_type": "markdown",
   "id": "481a9a58",
   "metadata": {},
   "source": [
    "## Step 3. Open Saved Experiment using 'pickle'\n",
    "\n",
    "    Pickle - A method to save the experimental class and reopen it elsewhere."
   ]
  },
  {
   "cell_type": "code",
   "execution_count": 3,
   "id": "9d339021",
   "metadata": {},
   "outputs": [],
   "source": [
    "# DO NOT MODIFY BELOW\n",
    "\n",
    "pickle_path = os.path.join(pickle_dir,pickle_name)\n",
    "pickle_in = open(pickle_path,\"rb\")\n",
    "my_exp = pickle.load(pickle_in)\n",
    "pickle_in.close()"
   ]
  },
  {
   "cell_type": "markdown",
   "id": "9f81b03d",
   "metadata": {},
   "source": [
    "## Step 4. Interpoated XAS spectra (NORMALIZED XANES ONLY)\n",
    "\n",
    "    It may be useful to export the spectra on a uniform grid with a specific energy range.  Common uses are for:\n",
    "        1. plotting in non-python software\n",
    "        2. taking a subset of the data for use in alternative analysis packages (UU PCA/MCR-ALS)\n",
    "\n",
    "### Sub steps for saving interpolated spectra:\n",
    "    a. Determine the largest possible energy range and step size - this looks for the largest startign erngy value, smallest ending energy, and average step size to to determine over/under sampling.\n",
    "    b. Perform the interpolation based upon start/stop/step size.\n",
    "    c. Save the data to a user specified .csv file and path\n",
    "    \n",
    "### 4a. Determinin largest interpolation range given XAS structure "
   ]
  },
  {
   "cell_type": "code",
   "execution_count": 4,
   "id": "78a15ea4",
   "metadata": {},
   "outputs": [
    {
     "name": "stdout",
     "output_type": "stream",
     "text": [
      "Energy Range and Energy-Step Summary for mu Sample\n",
      "\tVariation in starting energy points between spectra [eV]: 6959.53-6960.19\n",
      "\tVariation in ending energy points between spectra [eV]: 7870.39-7871.73\n",
      "\tVariation in step size of energy points between spectra [eV]: 0.05-0.05\n",
      "\n"
     ]
    }
   ],
   "source": [
    "# DO NOT MODIFY BELOW\n",
    "df = my_exp.check_Energy_Range(has_e0 = False, spectra_name = 'mu Sample', print_summary = True)"
   ]
  },
  {
   "cell_type": "markdown",
   "id": "89c6df4a",
   "metadata": {},
   "source": [
    "### 4b. Perform the interpolation based upon start/stop/step size\n",
    "\n",
    "interpolation writes a dataframe to the exepriemnt.summary dictionary.\n",
    "\n",
    "#### Modify:\n",
    "    1. Start - energy to start the interpolation at\n",
    "    2. Stop - energy to stop interpolation\n",
    "    3. Step - energy step to interpolate on"
   ]
  },
  {
   "cell_type": "code",
   "execution_count": 5,
   "id": "7dab249a",
   "metadata": {},
   "outputs": [],
   "source": [
    "# Set the energy range and step size to interpolate onto\n",
    "start = 7000 #eV\n",
    "stop = 7800 #eV\n",
    "step = 0.25 #eV"
   ]
  },
  {
   "cell_type": "code",
   "execution_count": 6,
   "id": "c33459c7",
   "metadata": {},
   "outputs": [],
   "source": [
    "# Interpolate Spectra\n",
    "\n",
    "spectra = 'mu Sample' # could also be 'mu Reference'\n",
    "x_xais = 'energy' # 'k' is in development for EXAFS extraction later\n",
    "\n",
    "# DO NOT MODIFY BELOW\n",
    "\n",
    "my_exp.interpolate_spectra(start, stop, step, x_axis = 'energy', sample = 'mu Sample')"
   ]
  },
  {
   "cell_type": "code",
   "execution_count": 7,
   "id": "cebe300d",
   "metadata": {},
   "outputs": [
    {
     "data": {
      "text/plain": [
       "<AxesSubplot:xlabel='energy'>"
      ]
     },
     "execution_count": 7,
     "metadata": {},
     "output_type": "execute_result"
    },
    {
     "data": {
      "image/png": "[encoded data removed]",
      "text/plain": [
       "<Figure size 432x288 with 1 Axes>"
      ]
     },
     "metadata": {
      "needs_background": "light"
     },
     "output_type": "display_data"
    }
   ],
   "source": [
    "# Visualzie interpolated spectra with plot\n",
    "\n",
    "my_exp.__dict__['summary']['Interpolated energy'].plot(legend=False)"
   ]
  },
  {
   "cell_type": "markdown",
   "id": "ddd85ddc",
   "metadata": {},
   "source": [
    "## Step 5. Save Experiment with 'pickle' \n",
    "    Pickle - A method to save the experimental class and reopen it elsewhere."
   ]
  },
  {
   "cell_type": "code",
   "execution_count": null,
   "id": "87c26b8a",
   "metadata": {},
   "outputs": [],
   "source": [
    "# DO NOT MODIFY BELOW\n",
    "\n",
    "pickle_out = open(pickle_path,\"wb\")\n",
    "pickle.dump(my_exp, pickle_out)\n",
    "pickle_out.close()"
   ]
  },
  {
   "cell_type": "markdown",
   "id": "71fbea62",
   "metadata": {},
   "source": [
    "# Do not forget to kill this kernal to prevent pileup on the RAM"
   ]
  }
 ],
 "metadata": {
  "kernelspec": {
   "display_name": "Python 3 (ipykernel)",
   "language": "python",
   "name": "python3"
  },
  "language_info": {
   "codemirror_mode": {
    "name": "ipython",
    "version": 3
   },
   "file_extension": ".py",
   "mimetype": "text/x-python",
   "name": "python",
   "nbconvert_exporter": "python",
   "pygments_lexer": "ipython3",
   "version": "3.9.12"
  }
 },
 "nbformat": 4,
 "nbformat_minor": 5
}
