{
 "cells": [
  {
   "cell_type": "code",
   "execution_count": 1,
   "id": "14fee1fc",
   "metadata": {},
   "outputs": [
    {
     "name": "stdout",
     "output_type": "stream",
     "text": [
      "No conda env active, defaulting to base\n"
     ]
    }
   ],
   "source": [
    "import os\n",
    "import glob2\n",
    "\n",
    "from matplotlib import pyplot as plt\n",
    "\n",
    "os.chdir('..')\n",
    "os.chdir('./catxas')\n",
    "import catxas"
   ]
  },
  {
   "cell_type": "markdown",
   "id": "f93673ff",
   "metadata": {},
   "source": [
    "#  1. Define directory containing FEFF inp files"
   ]
  },
  {
   "cell_type": "code",
   "execution_count": 2,
   "id": "c23eb12c",
   "metadata": {},
   "outputs": [],
   "source": [
    "### Modify paths inside the '' ###\n",
    "\n",
    "# Folder containing FEFF Inp (*.inp) files\n",
    "inp_dir = r'C:\\Users\\ashoff\\OneDrive - SLAC National Accelerator Laboratory\\Co-ACCESS Shared Folder\\Manuscripts and Presentations\\2021\\Bare - AIChE 2021\\Feff Plots\\KAuCl4'"
   ]
  },
  {
   "cell_type": "markdown",
   "id": "00c9a6e9",
   "metadata": {},
   "source": [
    "# 2. Define Plotting Window in R"
   ]
  },
  {
   "cell_type": "code",
   "execution_count": 3,
   "id": "2d7d33cb",
   "metadata": {},
   "outputs": [],
   "source": [
    "### Define plotting bounds ###\n",
    "xmin = 1\n",
    "xmax = 6\n",
    "xlabel = 'R (Å)'\n",
    "ylabel = 'Degenercy (Coordination Number)'"
   ]
  },
  {
   "cell_type": "markdown",
   "id": "44aae8fa",
   "metadata": {},
   "source": [
    "# 3. Extract .inp files "
   ]
  },
  {
   "cell_type": "code",
   "execution_count": 4,
   "id": "b39dbed4",
   "metadata": {},
   "outputs": [],
   "source": [
    "inp_files = glob2.glob(inp_dir+'\\*.inp')"
   ]
  },
  {
   "cell_type": "markdown",
   "id": "9ab376e6",
   "metadata": {},
   "source": [
    "# 4. Calcuate, Save and Plot Scattering Paths"
   ]
  },
  {
   "cell_type": "code",
   "execution_count": 5,
   "id": "2dab77a9",
   "metadata": {
    "scrolled": false
   },
   "outputs": [
    {
     "name": "stdout",
     "output_type": "stream",
     "text": [
      "Successfully created subdirectory\n",
      "Successfully created subdirectory\n",
      " : ======== running Feff module C:\\ProgramData\\Anaconda3\\lib\\site-packages\\larch\\bin\\win64\\feff6l.exe ========\n",
      " : Feff 6L.02\n",
      " : KAuCl4\n",
      " : Calculating potentials and phases...\n",
      " : free atom potential and density for atom type    0\n",
      " : free atom potential and density for atom type    1\n",
      " : free atom potential and density for atom type    2\n",
      " : free atom potential and density for atom type    3\n",
      " : overlapped potential and density for unique potential    0\n",
      " : overlapped potential and density for unique potential    1\n",
      " : overlapped potential and density for unique potential    2\n",
      " : overlapped potential and density for unique potential    3\n",
      " : muffin tin radii and interstitial parameters\n",
      " : phase shifts for unique potential    0\n",
      " : phase shifts for unique potential    1\n",
      " : phase shifts for unique potential    2\n",
      " : phase shifts for unique potential    3\n",
      " : Preparing plane wave scattering amplitudes...\n",
      " : nncrit in prcrit       9\n",
      " : Searching for paths...\n",
      " : Rmax  5.0000  keep and heap limits   0.0000000   0.0000000\n",
      " : Preparing neighbor table\n",
      " : nfound  nheap  nheapx  nsc    r\n",
      " : Paths found       54   (nheapx, nbx      13   4)\n",
      " : Eliminating path degeneracies...\n",
      " : Plane wave chi amplitude filter   2.50%\n",
      " : Unique paths     23,  total paths      30\n",
      " : Calculating EXAFS parameters...\n",
      " : Curved wave chi amplitude ratio   4.00%\n",
      " : Discard feff.dat for paths with cw ratio <   2.67%\n",
      " : path  cw ratio     deg    nleg  reff\n",
      " : 1   100.000     2.000     2   2.3229\n",
      " : 2    99.523     2.000     2   2.3261\n",
      " : 3    12.458     1.000     2   3.6491\n",
      " : 4    11.946     1.000     2   3.7019\n",
      " : 5     9.125     1.000     2   4.0798\n",
      " : 6     8.832     1.000     2   4.1281\n",
      " : 7     7.808     1.000     2   4.5359\n",
      " : 8     7.674     1.000     2   4.5654\n",
      " : 9     6.448     1.000     2   4.6063\n",
      " : 10     6.422     1.000     2   4.6127\n",
      " : 11     6.416     1.000     2   4.6140\n",
      " : 12     6.345     1.000     2   4.6313\n",
      " : 13     7.494     2.000     3   4.6456\n",
      " : 14    17.887     2.000     4   4.6456\n",
      " : 15     3.748     2.000     4   4.6457\n",
      " : 16     7.450     2.000     3   4.6517\n",
      " : 17    17.763     2.000     4   4.6517\n",
      " : 18     1.861     1.000     4   4.6512 neglected\n",
      " : 19     1.858     1.000     4   4.6522 neglected\n",
      " : 20     5.273     1.000     2   4.8376\n",
      " : 21     5.250     1.000     2   4.8440\n",
      " : 22     5.014     1.000     2   4.9133\n",
      " : 23     4.895     1.000     2   4.9494\n",
      " : 21 paths kept,   23 examined.\n",
      " : Feff done.  Have a nice day.\n",
      "Successfully created subdirectory\n",
      "Successfully created subdirectory\n",
      " : ======== running Feff module C:\\ProgramData\\Anaconda3\\lib\\site-packages\\larch\\bin\\win64\\feff6l.exe ========\n",
      " : Feff 6L.02\n",
      " : KAuCl4\n",
      " : Calculating potentials and phases...\n",
      " : free atom potential and density for atom type    0\n",
      " : free atom potential and density for atom type    1\n",
      " : free atom potential and density for atom type    2\n",
      " : free atom potential and density for atom type    3\n",
      " : overlapped potential and density for unique potential    0\n",
      " : overlapped potential and density for unique potential    1\n",
      " : overlapped potential and density for unique potential    2\n",
      " : overlapped potential and density for unique potential    3\n",
      " : muffin tin radii and interstitial parameters\n",
      " : phase shifts for unique potential    0\n",
      " : phase shifts for unique potential    1\n",
      " : phase shifts for unique potential    2\n",
      " : phase shifts for unique potential    3\n",
      " : Preparing plane wave scattering amplitudes...\n",
      " : nncrit in prcrit       9\n",
      " : Searching for paths...\n",
      " : Rmax  5.0000  keep and heap limits   0.0000000   0.0000000\n",
      " : Preparing neighbor table\n",
      " : nfound  nheap  nheapx  nsc    r\n",
      " : Paths found       44   (nheapx, nbx      11   4)\n",
      " : Eliminating path degeneracies...\n",
      " : Plane wave chi amplitude filter   2.50%\n",
      " : Unique paths     32,  total paths      44\n",
      " : Calculating EXAFS parameters...\n",
      " : Curved wave chi amplitude ratio   4.00%\n",
      " : Discard feff.dat for paths with cw ratio <   2.67%\n",
      " : path  cw ratio     deg    nleg  reff\n",
      " : 1   100.000     1.000     2   2.3214\n",
      " : 2    99.782     1.000     2   2.3229\n",
      " : 3    99.640     1.000     2   2.3239\n",
      " : 4    99.534     1.000     2   2.3246\n",
      " : 5    19.954     1.000     2   3.9367\n",
      " : 6    19.807     1.000     2   3.9466\n",
      " : 7     8.432     2.000     3   3.9553\n",
      " : 8     8.398     2.000     3   3.9580\n",
      " : 9     8.124     2.000     3   3.9748\n",
      " : 10     8.117     2.000     3   3.9754\n",
      " : 11    14.041     1.000     2   4.4639\n",
      " : 12    13.583     1.000     2   4.5148\n",
      " : 13    13.024     1.000     2   4.5301\n",
      " : 14    15.464     1.000     2   4.5359\n",
      " : 15    15.199     1.000     2   4.5654\n",
      " : 16    12.285     1.000     2   4.6151\n",
      " : 17     3.735     1.000     4   4.6428\n",
      " : 18    15.016     2.000     3   4.6443\n",
      " : 19    35.974     2.000     4   4.6443\n",
      " : 20     2.370     2.000     4   4.6453 neglected\n",
      " : 21     3.720     1.000     4   4.6458\n",
      " : 22     2.324     2.000     4   4.6460 neglected\n",
      " : 23     2.322     2.000     4   4.6467 neglected\n",
      " : 24    14.956     2.000     3   4.6484\n",
      " : 25    35.802     2.000     4   4.6484\n",
      " : 26     3.711     1.000     4   4.6477\n",
      " : 27     2.361     2.000     4   4.6475 neglected\n",
      " : 28     3.704     1.000     4   4.6492\n",
      " : 29    12.284     1.000     2   4.6704\n",
      " : 30    11.751     1.000     2   4.7397\n",
      " : 31    11.225     1.000     2   4.7479\n",
      " : 32    11.138     1.000     2   4.7595\n",
      " : 28 paths kept,   32 examined.\n",
      " : Feff done.  Have a nice day.\n"
     ]
    },
    {
     "data": {
      "image/png": "[encoded data removed]",
      "text/plain": [
       "<Figure size 720x720 with 1 Axes>"
      ]
     },
     "metadata": {
      "needs_background": "light"
     },
     "output_type": "display_data"
    },
    {
     "data": {
      "image/png": "[encoded data removed]",
      "text/plain": [
       "<Figure size 720x720 with 1 Axes>"
      ]
     },
     "metadata": {
      "needs_background": "light"
     },
     "output_type": "display_data"
    }
   ],
   "source": [
    "for line in inp_files:\n",
    "    # Create Results Directory\n",
    "    catxas.create_subdir(inp_dir, os.path.basename(line)[:-4]+'_results')\n",
    "    result_dir = os.path.join(inp_dir, os.path.basename(line)[:-4]+'_results')\n",
    "    \n",
    "    # Runn FEFF and Create Summary Dictionary\n",
    "    feff_summary = catxas.feff_PathSummary(line, sigma2 = 0.003, feff = 6)\n",
    "    \n",
    "    # Plot Paths from Summary\n",
    "    path_plt = catxas.plot_feff_paths(feff_summary, xmin= xmin, xmax=xmax, xlabel = xlabel, ylabel = ylabel)\n",
    "    \n",
    "    # Save Figure\n",
    "    path_plt.savefig(os.path.join(result_dir,os.path.basename(line)[:-4]+'.png'), dpi=None, facecolor='w', edgecolor='w',\n",
    "        orientation='portrait', papertype=None, format=None,\n",
    "        transparent=False, bbox_inches=None, pad_inches=0.1,\n",
    "        frameon=None, metadata=None)\n",
    "    \n",
    "    # Save csv file of single and multiple scattering paths\n",
    "    for key in feff_summary['Path_Summary'].keys():\n",
    "        feff_summary['Path_Summary'][key][['Backsactterer', 'Reff', 'Degen']].to_csv(os.path.join(result_dir,os.path.basename(line)[:-4]+f'_{key}_Backscatterer.csv'), sep=',', header=True, index=False,)\n",
    "    "
   ]
  },
  {
   "cell_type": "code",
   "execution_count": null,
   "id": "a65ce0df",
   "metadata": {},
   "outputs": [],
   "source": []
  }
 ],
 "metadata": {
  "kernelspec": {
   "display_name": "Python 3 (ipykernel)",
   "language": "python",
   "name": "python3"
  },
  "language_info": {
   "codemirror_mode": {
    "name": "ipython",
    "version": 3
   },
   "file_extension": ".py",
   "mimetype": "text/x-python",
   "name": "python",
   "nbconvert_exporter": "python",
   "pygments_lexer": "ipython3",
   "version": "3.8.13"
  }
 },
 "nbformat": 4,
 "nbformat_minor": 5
}
