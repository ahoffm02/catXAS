{
 "cells": [
  {
   "cell_type": "markdown",
   "id": "60864341",
   "metadata": {},
   "source": [
    "# Test system for function development"
   ]
  },
  {
   "cell_type": "code",
   "execution_count": 1,
   "id": "32ddc2fb",
   "metadata": {},
   "outputs": [],
   "source": [
    "# DO NOT MODIFY BELOW\n",
    "\n",
    "# File Handling\n",
    "import os\n",
    "import pickle\n",
    "\n",
    "# Array Handling\n",
    "import numpy as np\n",
    "import pandas as pd\n",
    "\n",
    "# Make Plotting Interactive\n",
    "from ipywidgets import interact, fixed\n",
    "\n",
    "# Wrapper for xraylarch (larch)\n",
    "os.chdir('..')\n",
    "pwd = os.getcwd()\n",
    "os.chdir('./catxas')\n",
    "import general as fcts\n",
    "import xas as xfcts\n",
    "import plot as pfcts\n",
    "import process\n",
    "import experiment as exp\n",
    "\n",
    "# Plot Handling\n",
    "import matplotlib.pyplot as plt\n",
    "import matplotlib.gridspec as gridspec\n",
    "\n",
    "%matplotlib inline"
   ]
  },
  {
   "cell_type": "code",
   "execution_count": null,
   "id": "9bda1215",
   "metadata": {},
   "outputs": [],
   "source": [
    "# Where is the data?\n",
    "\n",
    "# Directory Containing Experiment:\n",
    "pickle_dir = r'D:\\UU QEXAFS Workup\\Nina - BF31\\QEXAFS Python Workup Testing 20220922'\n",
    "\n",
    "# Name of Experiment (must include extension '.pickle')\n",
    "pickle_name = 'BF31-Fe-All.pickle'\n"
   ]
  },
  {
   "cell_type": "code",
   "execution_count": null,
   "id": "32ab3cd2",
   "metadata": {},
   "outputs": [],
   "source": [
    "# DO NOT MODIFY BELOW\n",
    "\n",
    "pickle_path = os.path.join(pickle_dir,pickle_name)\n",
    "pickle_in = open(pickle_path,\"rb\")\n",
    "my_exp = pickle.load(pickle_in)\n",
    "pickle_in.close()"
   ]
  },
  {
   "cell_type": "markdown",
   "id": "f1e06df0",
   "metadata": {},
   "source": [
    "# Method for Averaging (merging) Spectra\n"
   ]
  },
  {
   "cell_type": "code",
   "execution_count": null,
   "id": "6901d117",
   "metadata": {},
   "outputs": [],
   "source": [
    "# List all Spectra in experiment\n",
    "\n",
    "spectra_list = list(my_exp.spectra.keys())\n",
    "\n",
    "spectra_list"
   ]
  },
  {
   "cell_type": "raw",
   "id": "97a2e4ff",
   "metadata": {},
   "source": [
    "# Plot first and last spectra\n",
    "\n",
    "x1 = my_exp.spectra[spectra_list[0]]['Absorption Spectra']['mu Sample'].energy\n",
    "y1 = my_exp.spectra[spectra_list[0]]['Absorption Spectra']['mu Sample'].flat\n",
    "\n",
    "x2 = my_exp.spectra[spectra_list[0]]['Absorption Spectra']['mu Sample'].energy\n",
    "y2 = my_exp.spectra[spectra_list[0]]['Absorption Spectra']['mu Sample'].flat\n",
    "\n",
    "xy_list = [[x1, y1], [x2, y2]]"
   ]
  },
  {
   "cell_type": "code",
   "execution_count": 8,
   "id": "ff52b16a",
   "metadata": {},
   "outputs": [],
   "source": [
    "# Plot first and last spectra\n",
    "\n",
    "x1 = np.linspace(0, 2, 50)\n",
    "y1 = np.sin(np.pi*x1)\n",
    "\n",
    "x2 = np.linspace(0, 2, 50)\n",
    "y2 = np.cos(np.pi*x2)\n",
    "\n",
    "xy_list = [[x1, y1], [x2, y2]]"
   ]
  },
  {
   "cell_type": "code",
   "execution_count": 3,
   "id": "73a69404",
   "metadata": {},
   "outputs": [
    {
     "data": {
      "application/vnd.jupyter.widget-view+json": {
       "model_id": "32ff6d844e034dd4ae2d0230673953ba",
       "version_major": 2,
       "version_minor": 0
      },
      "text/plain": [
       "interactive(children=(FloatSlider(value=1.0, description='vline_pos', max=2.0), Output()), _dom_classes=('widg…"
      ]
     },
     "metadata": {},
     "output_type": "display_data"
    },
    {
     "data": {
      "text/plain": [
       "<function plot.plot_XYs_Vline(xy_list, vline_pos, emin, emax, axis_label=['Photon Energy (eV)', 'Norm mux'], size=[12, 10])>"
      ]
     },
     "execution_count": 3,
     "metadata": {},
     "output_type": "execute_result"
    }
   ],
   "source": [
    "# Find largest difference in spectra\n",
    "emin = 0\n",
    "emax = 2\n",
    "\n",
    "\n",
    "vline_pos = (emin, emax, 0.1) \n",
    "axis_label = ['Photon Energy (eV)','Norm mux'] \n",
    "size = [12, 10]\n",
    "\n",
    "interact(pfcts.plot_XYs_Vline, \n",
    "         xy_list = fixed(xy_list), \n",
    "         vline_pos = vline_pos, \n",
    "         emin = fixed(emin), \n",
    "         emax = fixed(emax), \n",
    "         axis_label = fixed(axis_label), \n",
    "         size = fixed(size))\n"
   ]
  },
  {
   "cell_type": "code",
   "execution_count": null,
   "id": "3dccff36",
   "metadata": {},
   "outputs": [],
   "source": [
    "# value from plot above\n",
    "energy_pt = 7125"
   ]
  },
  {
   "cell_type": "code",
   "execution_count": null,
   "id": "c9039d9d",
   "metadata": {},
   "outputs": [],
   "source": [
    "# Convert spectra list postiion to integer in list\n",
    "spectra_list_number = list(range(len(spectra_list)))\n",
    "\n",
    "# get flat Norm(mux) value closest to largest energy variation\n",
    "\n",
    "spectra_mu = []\n",
    "\n",
    "for key in my_exp.spectra.keys():\n",
    "    \n",
    "    # find closest energy point\n",
    "    idx = fcts.find_nearest(my_exp.spectra[key]['Absorption Spectra']['mu Sample'].energy)\n",
    "    \n",
    "    #get flattened mu value and append to spectra_mu list\n",
    "    spectra_mu.append(my_exp.spectra[key]['Absorption Spectra']['mu Sample'].flat[idx])"
   ]
  },
  {
   "cell_type": "code",
   "execution_count": null,
   "id": "b4e2edda",
   "metadata": {},
   "outputs": [],
   "source": [
    "# track mu with spectra number\n",
    "emin = 0\n",
    "emax = len(spectra_list)\n",
    "\n",
    "\n",
    "vline_pos = (emin, emax, 1) \n",
    "axis_label = ['Spectra Number in List','Norm mux'] \n",
    "size = [12, 10]\n",
    "\n",
    "interact(plot_scans_Vline, \n",
    "         xy_list = fixed(xy_list), \n",
    "         vline_pos = vline_pos, \n",
    "         emin = fixed(emin), \n",
    "         emax = fixed(emax), \n",
    "         axis_label = fixed(axis_label), \n",
    "         size = fixed(size))"
   ]
  },
  {
   "cell_type": "code",
   "execution_count": null,
   "id": "7d5e3356",
   "metadata": {},
   "outputs": [],
   "source": [
    "# Value from above plot\n",
    "\n",
    "steaty_state_starts = 50\n",
    "\n",
    "# Downselect spectra list for merging\n",
    "\n",
    "merge_spectra_list = specrta_list[steaty_state_starts:]"
   ]
  },
  {
   "cell_type": "code",
   "execution_count": null,
   "id": "6cd5f25b",
   "metadata": {},
   "outputs": [],
   "source": [
    "# Create Merged Spectra\n",
    "merged_spectra = merge_spectra(my_exp, merge_spectra_list)"
   ]
  },
  {
   "cell_type": "code",
   "execution_count": null,
   "id": "d13d86b9",
   "metadata": {},
   "outputs": [],
   "source": [
    "# Save Merge Spectra + Process Params\n",
    "\n",
    "data = {\n",
    "    'Energy': merged_spectra['Absorption Spectra']['mu Sample'].energy,\n",
    "    'Sample mu': merged_spectra['Absorption Spectra']['mu Sample'].mu,\n",
    "    'Ref mu': merged_spectra['Absorption Spectra']['mu Reference'].mu,\n",
    "}\n",
    "\n",
    "df = pd.Dataframe(data)\n",
    "\n",
    "output_dir = r'path here'\n",
    "\n",
    "merge_fname = r'filename #1 here'\n",
    "\n",
    "process_fname = r'filanme #2 here'"
   ]
  },
  {
   "cell_type": "code",
   "execution_count": null,
   "id": "a6f9c502",
   "metadata": {},
   "outputs": [],
   "source": [
    "# Save Merge Spectra\n",
    "df.to_csv(os.path.join(output_dir, merge_fname + '.csv'), sep=',', na_rep='', header=True, index=False)\n",
    "\n",
    "# Save Process Params\n",
    "merged_spectra.to_csv(os.path.join(output_dir, process_fname + '.csv'), sep=',', na_rep='', header=True, index=False)"
   ]
  },
  {
   "cell_type": "code",
   "execution_count": null,
   "id": "db037fc7",
   "metadata": {},
   "outputs": [],
   "source": []
  },
  {
   "cell_type": "code",
   "execution_count": null,
   "id": "c5befdf6",
   "metadata": {},
   "outputs": [],
   "source": []
  }
 ],
 "metadata": {
  "kernelspec": {
   "display_name": "Python 3 (ipykernel)",
   "language": "python",
   "name": "python3"
  },
  "language_info": {
   "codemirror_mode": {
    "name": "ipython",
    "version": 3
   },
   "file_extension": ".py",
   "mimetype": "text/x-python",
   "name": "python",
   "nbconvert_exporter": "python",
   "pygments_lexer": "ipython3",
   "version": "3.9.12"
  }
 },
 "nbformat": 4,
 "nbformat_minor": 5
}
