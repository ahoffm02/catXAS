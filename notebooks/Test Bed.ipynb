{
 "cells": [
  {
   "cell_type": "markdown",
   "id": "60864341",
   "metadata": {},
   "source": [
    "# Test system for function development"
   ]
  },
  {
   "cell_type": "code",
   "execution_count": 1,
   "id": "32ddc2fb",
   "metadata": {},
   "outputs": [],
   "source": [
    "# DO NOT MODIFY BELOW\n",
    "\n",
    "# File Handling\n",
    "import os\n",
    "import pickle\n",
    "\n",
    "# Array Handling\n",
    "import numpy as np\n",
    "import pandas as pd\n",
    "\n",
    "# Make Plotting Interactive\n",
    "from ipywidgets import interact, fixed\n",
    "\n",
    "# Wrapper for xraylarch (larch)\n",
    "os.chdir('..')\n",
    "pwd = os.getcwd()\n",
    "os.chdir('./catxas')\n",
    "import general as fcts\n",
    "import xas as xfcts\n",
    "import plot as pfcts\n",
    "import process\n",
    "import experiment as exp\n",
    "\n",
    "# Plot Handling\n",
    "import matplotlib.pyplot as plt\n",
    "\n",
    "%matplotlib inline"
   ]
  },
  {
   "cell_type": "code",
   "execution_count": 2,
   "id": "9bda1215",
   "metadata": {},
   "outputs": [],
   "source": [
    "# Where is the data?\n",
    "\n",
    "# Directory Containing Experiment:\n",
    "pickle_dir = r'D:\\UU QEXAFS Workup\\Nina - BF31\\QEXAFS Python Workup Testing 20220922'\n",
    "\n",
    "# Name of Experiment (must include extension '.pickle')\n",
    "pickle_name = 'BF31-Fe-All.pickle'\n"
   ]
  },
  {
   "cell_type": "code",
   "execution_count": 3,
   "id": "32ab3cd2",
   "metadata": {},
   "outputs": [],
   "source": [
    "# DO NOT MODIFY BELOW\n",
    "\n",
    "pickle_path = os.path.join(pickle_dir,pickle_name)\n",
    "pickle_in = open(pickle_path,\"rb\")\n",
    "my_exp = pickle.load(pickle_in)\n",
    "pickle_in.close()"
   ]
  },
  {
   "cell_type": "markdown",
   "id": "f1e06df0",
   "metadata": {},
   "source": [
    "# Method for Averaging (merging) Spectra\n"
   ]
  },
  {
   "cell_type": "code",
   "execution_count": 64,
   "id": "cded6554",
   "metadata": {},
   "outputs": [],
   "source": [
    "from larch.io import merge_groups\n",
    "import datetime"
   ]
  },
  {
   "cell_type": "code",
   "execution_count": 105,
   "id": "c09efec4",
   "metadata": {},
   "outputs": [],
   "source": [
    "def parse_list(m, n):\n",
    "    '''\n",
    "    m = list of names\n",
    "    \n",
    "    n = how many items should be grouped together\n",
    "    \n",
    "    last value is a list of remainders\n",
    "    \n",
    "    returns a list of lists (lenght n) with the last list the modulo m%n (remainder)\n",
    "    '''\n",
    "    # using list comprehension\n",
    "    x = [m[i:i + n] for i in range(0, len(m), n)]\n",
    "    \n",
    "    return x"
   ]
  },
  {
   "cell_type": "code",
   "execution_count": 106,
   "id": "7ded73f8",
   "metadata": {},
   "outputs": [],
   "source": [
    "def groups_lists(exp, grp_name_list, spectra_name = 'mu sample'):\n",
    "    grp_list = []\n",
    "    for key in exp.spectra.keys():\n",
    "        if key in grp_name_list:\n",
    "            grp_list.append(exp.spectra[key]['Absorption Spectra'][spectra_name])\n",
    "    \n",
    "    return grp_list"
   ]
  },
  {
   "cell_type": "code",
   "execution_count": 107,
   "id": "0086c6d2",
   "metadata": {},
   "outputs": [],
   "source": [
    "def process_concat(exp, grp_name_list):\n",
    "    process_df_list = []\n",
    "    for key in exp.spectra.keys():\n",
    "        if key in grp_name_list:\n",
    "            process_df_list.append(exp.spectra[key]['Process Values'])\n",
    "            \n",
    "    process_df = pd.concat(process_df_list)\n",
    "    \n",
    "    process_df.drop(columns=['File Name'], inplace = True)\n",
    "    \n",
    "    process_df.reset_index(drop = True, inplace = True)\n",
    "    \n",
    "    return process_df"
   ]
  },
  {
   "cell_type": "code",
   "execution_count": 140,
   "id": "11911755",
   "metadata": {},
   "outputs": [],
   "source": [
    "def time_lists(exp, grp_name_list):\n",
    "    time_list = []\n",
    "    for key in exp.spectra.keys():\n",
    "        if key in grp_name_list:\n",
    "            time_list.append(exp.spectra[key]['Time'])\n",
    "            \n",
    "    return time_list"
   ]
  },
  {
   "cell_type": "code",
   "execution_count": 154,
   "id": "a8a563ae",
   "metadata": {},
   "outputs": [],
   "source": [
    "def merge_spectra(exp, grp_name_list, spectra_name = 'mu Sample'):\n",
    "    \n",
    "    # Create List of Groups\n",
    "    grp_list = groups_lists(my_exp, grp_name_list, spectra_name = spectra_name)\n",
    "    \n",
    "    # Create list of Process Parameters\n",
    "    process_params_list = process_concat(my_exp, grp_name_list)\n",
    "    \n",
    "    # Create list of Timestamps\n",
    "    time_list = time_lists(my_exp, grp_name_list)\n",
    "    \n",
    "    # Calculate the mean absorption spectra\n",
    "    grp_mean = merge_groups(grp_list, master = None, \n",
    "                          xarray = 'energy', yarray = 'mu', \n",
    "                          kind = 'cubic', trim = True, calc_yerr = True)\n",
    "    \n",
    "    # Calculate the mean Process Paramters\n",
    "    process_mean = process_params.mean(axis = 0)\n",
    "    \n",
    "    # Calculate the mean Timestamp\n",
    "    time_mean = pd.Timestamp(np.mean([i.timestamp() for i in time_list]), unit = 's')\n",
    "    \n",
    "    # Rename group based upon TOS\n",
    "    grp_mean.__name__ = f'{process_mean[\"TOS [s]\"]:0.2f} s'\n",
    "    \n",
    "    \n",
    "    # Create Spectra dictionary for experiment class\n",
    "    spectra_dict = {'XAS Data Structure': None, \n",
    "                    'Time': time_mean, \n",
    "                    'Absorption Spectra':{'mu Sample': grp_mean},\n",
    "                    'Process Values':process_mean\n",
    "                   }\n",
    "    \n",
    "    return spectra_dict\n",
    "    \n",
    "    "
   ]
  },
  {
   "cell_type": "code",
   "execution_count": 158,
   "id": "6901d117",
   "metadata": {},
   "outputs": [],
   "source": [
    "# Down select step to set which groups to merge\n",
    "\n",
    "spectra_list = list(my_exp.spectra.keys())\n",
    "\n",
    "specta_to_merge = 9\n",
    "\n",
    "list_of_group_names = parse_list(spectra_list, specta_to_merge)"
   ]
  },
  {
   "cell_type": "code",
   "execution_count": 159,
   "id": "ae418e0f",
   "metadata": {},
   "outputs": [
    {
     "data": {
      "text/plain": [
       "['20211119_ME_BF31_Fe_B_00003',\n",
       " '20211119_ME_BF31_Fe_B_00005',\n",
       " '20211119_ME_BF31_Fe_B_00007',\n",
       " '20211119_ME_BF31_Fe_B_00009',\n",
       " '20211119_ME_BF31_Fe_B_00011',\n",
       " '20211119_ME_BF31_Fe_B_00013',\n",
       " '20211119_ME_BF31_Fe_B_00015',\n",
       " '20211119_ME_BF31_Fe_B_00017',\n",
       " '20211119_ME_BF31_Fe_B_00019']"
      ]
     },
     "execution_count": 159,
     "metadata": {},
     "output_type": "execute_result"
    }
   ],
   "source": [
    "list_of_group_names[0]"
   ]
  },
  {
   "cell_type": "code",
   "execution_count": 160,
   "id": "6cd5f25b",
   "metadata": {},
   "outputs": [],
   "source": [
    "test_spectra = merge_spectra(my_exp, list_of_group_names[0], spectra_name = 'mu Sample' )"
   ]
  },
  {
   "cell_type": "code",
   "execution_count": 161,
   "id": "b1708ff6",
   "metadata": {},
   "outputs": [
    {
     "data": {
      "text/plain": [
       "{'XAS Data Structure': None,\n",
       " 'Time': Timestamp('2021-11-19 16:02:23.137300014'),\n",
       " 'Absorption Spectra': {'mu Sample': <Group -61.00 s>},\n",
       " 'Process Values': TOS [s]      -6.100440e+01\n",
       " H2            1.378016e-07\n",
       " He            4.095101e-08\n",
       " CH4          -1.155835e-11\n",
       " H2O           1.557460e-09\n",
       "                   ...     \n",
       " Extra DO 1    0.000000e+00\n",
       " Extra DO 2    0.000000e+00\n",
       " Extra DO 3    0.000000e+00\n",
       " Extra DO 4    0.000000e+00\n",
       " Events                 NaN\n",
       " Length: 80, dtype: float64}"
      ]
     },
     "execution_count": 161,
     "metadata": {},
     "output_type": "execute_result"
    }
   ],
   "source": [
    "test_spectra"
   ]
  },
  {
   "cell_type": "code",
   "execution_count": 163,
   "id": "88b2d459",
   "metadata": {},
   "outputs": [
    {
     "data": {
      "text/plain": [
       "(3.0, 3.7)"
      ]
     },
     "execution_count": 163,
     "metadata": {},
     "output_type": "execute_result"
    },
    {
     "data": {
      "image/png": "[encoded data removed]",
      "text/plain": [
       "<Figure size 864x720 with 1 Axes>"
      ]
     },
     "metadata": {
      "needs_background": "light"
     },
     "output_type": "display_data"
    }
   ],
   "source": [
    "x1 = my_exp.spectra['20211119_ME_BF31_Fe_B_00003']['Absorption Spectra']['mu Sample'].energy\n",
    "y1 = my_exp.spectra['20211119_ME_BF31_Fe_B_00003']['Absorption Spectra']['mu Sample'].mu\n",
    "\n",
    "x2 = test_spectra['Absorption Spectra']['mu Sample'].energy\n",
    "y2 = test_spectra['Absorption Spectra']['mu Sample'].mu\n",
    "\n",
    "plt.figure(figsize = (12,10))\n",
    "plt.plot(x1,y1)\n",
    "plt.plot(x2,y2)\n",
    "plt.xlim(7000, 7300)\n",
    "plt.ylim(3,3.7)"
   ]
  },
  {
   "cell_type": "code",
   "execution_count": 89,
   "id": "61df29d1",
   "metadata": {},
   "outputs": [
    {
     "data": {
      "text/plain": [
       "['20211119_ME_BF31_Fe_B_05088',\n",
       " '20211119_ME_BF31_Fe_B_05090',\n",
       " '20211119_ME_BF31_Fe_B_05092',\n",
       " '20211119_ME_BF31_Fe_B_05094']"
      ]
     },
     "execution_count": 89,
     "metadata": {},
     "output_type": "execute_result"
    }
   ],
   "source": [
    "boxcar_list(list(my_exp.spectra.keys()),9)[-1]"
   ]
  },
  {
   "cell_type": "code",
   "execution_count": null,
   "id": "f3734ec0",
   "metadata": {},
   "outputs": [],
   "source": [
    "def boxcar_average(m, window):\n",
    "    if window > len(m):\n",
    "        print('window too large')\n",
    "    else:\n",
    "        bins = int(len(m)/window)\n",
    "        \n",
    "        counter = 0\n",
    "        \n",
    "        averaged_m = []\n",
    "\n",
    "        # Binned Space\n",
    "        for i in range(bins):\n",
    "            binned_m = []\n",
    "            for j in range(window):\n",
    "                binned_m.append(m[i*window+j])\n",
    "                ave_val = np.mean(binned_m)\n",
    "                std_val = np.std(binned_m)\n",
    "                counter = counter + 1\n",
    "            averaged_m.append([ave_val, std_val])\n",
    "\n",
    "        \n",
    "        result = np.asarray(averaged_m)\n",
    "\n",
    "        return result"
   ]
  },
  {
   "cell_type": "code",
   "execution_count": null,
   "id": "915b5926",
   "metadata": {},
   "outputs": [],
   "source": [
    "start = 0\n",
    "stop = 2\n",
    "num = 100\n",
    "x = np.linspace(start, stop, num = num)"
   ]
  },
  {
   "cell_type": "code",
   "execution_count": null,
   "id": "042699df",
   "metadata": {},
   "outputs": [],
   "source": [
    "y1 = np.sin(np.multiply(np.pi,x))"
   ]
  },
  {
   "cell_type": "code",
   "execution_count": null,
   "id": "16589cc1",
   "metadata": {},
   "outputs": [],
   "source": [
    "data = {'x':x,\n",
    "       'y1':y1}\n",
    "\n",
    "df = pd.DataFrame(data).set_index('x')"
   ]
  },
  {
   "cell_type": "code",
   "execution_count": null,
   "id": "65d5edb7",
   "metadata": {},
   "outputs": [],
   "source": [
    "y2 = df.y1.rolling(4, min_periods=None, center=False, \n",
    "                     win_type=None, on=None, axis=0, \n",
    "                     closed=None, method='single').mean()\n",
    "\n",
    "y2_error = df.y1.rolling(4, min_periods=None, center=False, \n",
    "                     win_type=None, on=None, axis=0, \n",
    "                     closed=None, method='single').std()\n",
    "\n",
    "\n",
    "\n",
    "y3 = df.y1.rolling(9, min_periods=None, center=False,\n",
    "                     win_type=None, on=None, axis=0, \n",
    "                     closed=None, method='single').mean()\n",
    "y3_error = df.y1.rolling(9, min_periods=None, center=False, \n",
    "                     win_type=None, on=None, axis=0, \n",
    "                     closed=None, method='single').std()\n",
    "\n",
    "y4 = df.y1.rolling(16, min_periods=None, center=False,\n",
    "                     win_type=None, on=None, axis=0,\n",
    "                     closed=None, method='single').mean()\n",
    "y4_error = df.y1.rolling(16, min_periods=None, center=False,\n",
    "                     win_type=None, on=None, axis=0,\n",
    "                     closed=None, method='single').std()\n",
    "\n",
    "plt.figure(figsize = (12,10))\n",
    "plt.plot(x, y1, 'k', label = 'data')\n",
    "plt.errorbar(x, y2, yerr=y2_error, fmt = 'rx', capsize = 2, label = 'Rolling = 4')\n",
    "plt.errorbar(x, y3, yerr=y3_error, fmt = 'bx', capsize = 2, label = 'Rolling = 9')\n",
    "plt.errorbar(x, y4, yerr=y4_error, fmt = 'gx', capsize = 2, label = 'Rolling = 16')\n",
    "plt.legend()\n",
    "plt.title('Center False')"
   ]
  },
  {
   "cell_type": "code",
   "execution_count": null,
   "id": "2470e372",
   "metadata": {},
   "outputs": [],
   "source": [
    "y5 = df[key].rolling(4, min_periods=None, center=True, \n",
    "                     win_type=None, on=None, axis=0, \n",
    "                     closed=None, method='single').mean()\n",
    "y5_error = df[key].rolling(4, min_periods=None, center=True, \n",
    "                     win_type=None, on=None, axis=0, \n",
    "                     closed=None, method='single').std()\n",
    "\n",
    "y6 = df[key].rolling(9, min_periods=None, center=True,\n",
    "                     win_type=None, on=None, axis=0, \n",
    "                     closed=None, method='single').mean()\n",
    "y6_error = df[key].rolling(9, min_periods=None, center=True,\n",
    "                     win_type=None, on=None, axis=0, \n",
    "                     closed=None, method='single').std()\n",
    "\n",
    "y7 = df[key].rolling(16, min_periods=None, center=True,\n",
    "                     win_type=None, on=None, axis=0,\n",
    "                     closed=None, method='single').mean()\n",
    "y7_error = df[key].rolling(16, min_periods=None, center=True,\n",
    "                     win_type=None, on=None, axis=0,\n",
    "                     closed=None, method='single').std()\n",
    "\n",
    "plt.figure(figsize = (12,10))\n",
    "plt.plot(x, y1, 'k', label = 'data')\n",
    "plt.errorbar(x, y5, yerr=y5_error, fmt = 'rx', capsize = 2, label = 'Rolling = 4')\n",
    "plt.errorbar(x, y6, yerr=y6_error, fmt = 'bx', capsize = 2, label = 'Rolling = 9')\n",
    "plt.errorbar(x, y7, yerr=y7_error, fmt = 'gx', capsize = 2, label = 'Rolling = 16')\n",
    "plt.legend()\n",
    "plt.title('Center True')"
   ]
  },
  {
   "cell_type": "code",
   "execution_count": null,
   "id": "0ef2f326",
   "metadata": {},
   "outputs": [],
   "source": [
    "# Comparison of Center True/False for one set\n",
    "plt.figure(figsize = (12,10))\n",
    "plt.plot(x, y1, 'k', label = 'data')\n",
    "plt.errorbar(x, y2, yerr=y2_error, fmt = 'rx', capsize = 2, label = 'Center = False')\n",
    "plt.errorbar(x, y5, yerr=y5_error, fmt = 'bx', capsize = 2, label = 'Center = True')\n",
    "plt.legend()\n",
    "plt.title('Center True vs False, Rolling = 4')"
   ]
  },
  {
   "cell_type": "code",
   "execution_count": null,
   "id": "01cd2ad5",
   "metadata": {},
   "outputs": [],
   "source": [
    "y8 = df[key].rolling(4, min_periods=None, center=True, \n",
    "                     win_type='boxcar', on=None, axis=0, \n",
    "                     closed=None, method='single').mean()\n",
    "y8_error = df[key].rolling(4, min_periods=None, center=True, \n",
    "                     win_type='boxcar', on=None, axis=0, \n",
    "                     closed=None, method='single').std()\n",
    "\n",
    "y9 = df[key].rolling(9, min_periods=None, center=True,\n",
    "                     win_type='boxcar', on=None, axis=0, \n",
    "                     closed=None, method='single').mean()\n",
    "y9_error = df[key].rolling(9, min_periods=None, center=True,\n",
    "                     win_type='boxcar', on=None, axis=0, \n",
    "                     closed=None, method='single').std()\n",
    "\n",
    "y10 = df[key].rolling(16, min_periods=None, center=True,\n",
    "                     win_type='boxcar', on=None, axis=0,\n",
    "                     closed=None, method='single').mean()\n",
    "y10_error = df[key].rolling(16, min_periods=None, center=True,\n",
    "                     win_type='boxcar', on=None, axis=0,\n",
    "                     closed=None, method='single').std()\n",
    "\n",
    "\n",
    "plt.figure(figsize = (12,10))\n",
    "plt.plot(x, y1, 'k', label = 'data')\n",
    "plt.errorbar(x, y8, yerr=y8_error, fmt = 'rx', capsize = 2, label = 'Rolling = 4')\n",
    "plt.errorbar(x, y9, yerr=y9_error, fmt = 'bx', capsize = 2, label = 'Rolling = 9')\n",
    "plt.errorbar(x, y10, yerr=y10_error, fmt = 'gx', capsize = 2, label = 'Rolling = 16')\n",
    "plt.legend()\n",
    "plt.title('Center True, Window = Boxcar')"
   ]
  },
  {
   "cell_type": "code",
   "execution_count": null,
   "id": "dfae8f2f",
   "metadata": {},
   "outputs": [],
   "source": [
    "# Comparison of Center True/False for one set\n",
    "plt.figure(figsize = (12,10))\n",
    "plt.plot(x, y1, 'k', label = 'data')\n",
    "plt.errorbar(x, y7, yerr=y7_error, fmt = 'rx', capsize = 2, label = 'Window = None')\n",
    "plt.errorbar(x, y10, yerr=y10_error, fmt = 'bx', capsize = 2, label = 'Window = boxcar')\n",
    "plt.legend()\n",
    "plt.title('Window None/boxcar, Rolling = 16')"
   ]
  },
  {
   "cell_type": "code",
   "execution_count": null,
   "id": "0e9adf60",
   "metadata": {},
   "outputs": [],
   "source": [
    "y11 = df[key].rolling(4, min_periods=None, center=True, \n",
    "                     win_type='boxcar', on=None, axis=0, \n",
    "                     closed='right', method='single').mean()\n",
    "y11_error = df[key].rolling(4, min_periods=None, center=True, \n",
    "                     win_type='boxcar', on=None, axis=0, \n",
    "                     closed='right', method='single').std()\n",
    "\n",
    "y12 = df[key].rolling(4, min_periods=None, center=True,\n",
    "                     win_type='boxcar', on=None, axis=0, \n",
    "                     closed='left', method='single').mean()\n",
    "y12_error = df[key].rolling(4, min_periods=None, center=True,\n",
    "                     win_type='boxcar', on=None, axis=0, \n",
    "                     closed='left', method='single').std()\n",
    "\n",
    "y13 = df[key].rolling(4, min_periods=None, center=True,\n",
    "                     win_type='boxcar', on=None, axis=0,\n",
    "                     closed='both', method='single').mean()\n",
    "y13_error = df[key].rolling(4, min_periods=None, center=True,\n",
    "                     win_type='boxcar', on=None, axis=0,\n",
    "                     closed='both', method='single').std()\n",
    "\n",
    "y14 = df[key].rolling(4, min_periods=None, center=True,\n",
    "                     win_type='boxcar', on=None, axis=0,\n",
    "                     closed='neither', method='single').mean()\n",
    "y14_error = df[key].rolling(4, min_periods=None, center=True,\n",
    "                     win_type='boxcar', on=None, axis=0,\n",
    "                     closed='neither', method='single').std()\n",
    "\n",
    "plt.figure(figsize = (12,10))\n",
    "plt.plot(x, y1, 'k', label = 'data')\n",
    "plt.errorbar(x, y11, yerr=y11_error, fmt = 'rx', capsize = 2, label = 'Right')\n",
    "plt.errorbar(x, y12, yerr=y12_error, fmt = 'bx', capsize = 2, label = 'Left')\n",
    "plt.errorbar(x, y13, yerr=y13_error, fmt = 'gx', capsize = 2, label = 'Both')\n",
    "plt.errorbar(x, y14, yerr=y14_error, fmt = 'gx', capsize = 2, label = 'Neither')\n",
    "plt.legend()\n",
    "plt.title('Rolling = 4, Center True, Window = Boxcar')"
   ]
  },
  {
   "cell_type": "code",
   "execution_count": null,
   "id": "b1e1c137",
   "metadata": {},
   "outputs": [],
   "source": []
  },
  {
   "cell_type": "code",
   "execution_count": null,
   "id": "54dc26f7",
   "metadata": {},
   "outputs": [],
   "source": [
    "win = 4\n",
    "\n",
    "ave_x = boxcar_average(x, win)\n",
    "ave_y = boxcar_average(y1, win)\n",
    "\n",
    "win1 = 9\n",
    "\n",
    "ave_x1 = boxcar_average(x, win1)\n",
    "ave_y1 = boxcar_average(y1, win1)"
   ]
  },
  {
   "cell_type": "code",
   "execution_count": null,
   "id": "7e684a9d",
   "metadata": {},
   "outputs": [],
   "source": [
    "plt.figure(figsize = (12,10))\n",
    "plt.plot(x, y1, 'k', label = 'data')\n",
    "plt.errorbar(ave_x[:,0], ave_y[:,0], xerr=ave_x[:,1], yerr=ave_y[:,1], fmt = 'rx', capsize = 2, label = 'Right')\n",
    "plt.errorbar(ave_x1[:,0], ave_y1[:,0], xerr=ave_x1[:,1], yerr=ave_y1[:,1], fmt = 'bx', capsize = 2, label = 'Right')"
   ]
  }
 ],
 "metadata": {
  "kernelspec": {
   "display_name": "Python 3 (ipykernel)",
   "language": "python",
   "name": "python3"
  },
  "language_info": {
   "codemirror_mode": {
    "name": "ipython",
    "version": 3
   },
   "file_extension": ".py",
   "mimetype": "text/x-python",
   "name": "python",
   "nbconvert_exporter": "python",
   "pygments_lexer": "ipython3",
   "version": "3.9.12"
  }
 },
 "nbformat": 4,
 "nbformat_minor": 5
}
