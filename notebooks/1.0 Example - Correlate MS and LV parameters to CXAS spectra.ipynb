{
 "cells": [
  {
   "cell_type": "code",
   "execution_count": null,
   "id": "031f6970",
   "metadata": {},
   "outputs": [],
   "source": [
    "import os\n",
    "import time\n",
    "\n",
    "import numpy as np\n",
    "import pandas as pd\n",
    "\n",
    "from ipywidgets import interact\n",
    "\n",
    "import larch\n",
    "\n",
    "from matplotlib import pyplot as plt\n",
    "\n",
    "os.chdir('..')\n",
    "os.chdir('./catxas')\n",
    "import catxas"
   ]
  },
  {
   "cell_type": "markdown",
   "id": "7def5b85",
   "metadata": {},
   "source": [
    "# 1. Define where Data is Stored"
   ]
  },
  {
   "cell_type": "code",
   "execution_count": null,
   "id": "005a6e30",
   "metadata": {},
   "outputs": [],
   "source": [
    "### Modify paths inside the '' ###\n",
    "\n",
    "# Folder containing ONLY CXAS spectra\n",
    "data_dir = r'C:\\Users\\ashoff\\OneDrive - SLAC National Accelerator Laboratory\\Co-ACCESS Shared Folder\\Python Scripts and GUIs\\Example Data 1 - SnO2 Reduction\\Raw Data'\n",
    "\n",
    "# Mass Spec File:\n",
    "MS_filename = r'C:\\Users\\ashoff\\OneDrive - SLAC National Accelerator Laboratory\\Co-ACCESS Shared Folder\\Python Scripts and GUIs\\Example Data 1 - SnO2 Reduction\\20210614_Sievers_SnO2_H2View1.csv'\n",
    "\n",
    "# AmP LabView File:\n",
    "LV_filename = r'C:\\Users\\ashoff\\OneDrive - SLAC National Accelerator Laboratory\\Co-ACCESS Shared Folder\\Python Scripts and GUIs\\Example Data 1 - SnO2 Reduction\\20210614_Sievers_SnO2_H2.txt'"
   ]
  },
  {
   "cell_type": "markdown",
   "id": "06badb1b",
   "metadata": {},
   "source": [
    "# 2. Define BL Data Structure"
   ]
  },
  {
   "cell_type": "code",
   "execution_count": null,
   "id": "55d26a9d",
   "metadata": {},
   "outputs": [],
   "source": [
    "### Define the layout of the xas data file and how spectra are calcualted\n",
    "cxas_data_structure = {\n",
    "    'time stamp': True,\n",
    "    'time on line': 5,\n",
    "    'time format': '# This Scan Create Date:\\t%m/%d/%Y %I:%M:%S %p',\n",
    "    'padded scan numbers': True,\n",
    "    'column names': ['Encoder', 'Energy', 'ADC_01', 'ADC_02', 'ADC_03', 'ADC_04', 'ADC_05', 'ADC_06', 'ADC_07', 'ADC_08'],\n",
    "    'energy column' : 'Energy', # Energy [eV]\n",
    "    'sample numerator': 'ADC_01', # I0\n",
    "    'sample denominator': 'ADC_02', # I1\n",
    "    'sample ln': True,\n",
    "    'sample invert': False,\n",
    "    'reference numerator': 'ADC_02', # I1\n",
    "    'reference denominator': 'ADC_03', # I2\n",
    "    'reference ln': True,\n",
    "    'reference invert': False   \n",
    "}"
   ]
  },
  {
   "cell_type": "markdown",
   "id": "f8c04d4a",
   "metadata": {},
   "source": [
    "#  3. Extract Timestamps of BL data"
   ]
  },
  {
   "cell_type": "code",
   "execution_count": null,
   "id": "4419281d",
   "metadata": {},
   "outputs": [],
   "source": [
    "time_stamp = cxas_data_structure['time stamp']\n",
    "time_line = cxas_data_structure['time on line']\n",
    "time_format = cxas_data_structure['time format']\n",
    "padded = cxas_data_structure['padded scan numbers']\n",
    "\n",
    "\n",
    "CXAS_summary = catxas.CXAS_Sorted(data_dir,\n",
    "                   time_stamp=time_stamp, time_line=time_line, time_format=time_format,\n",
    "                   padded=padded)"
   ]
  },
  {
   "cell_type": "code",
   "execution_count": null,
   "id": "125e4dee",
   "metadata": {},
   "outputs": [],
   "source": [
    "CXAS_summary"
   ]
  },
  {
   "cell_type": "markdown",
   "id": "f84a1017",
   "metadata": {},
   "source": [
    "# 4. Import MS and LV data"
   ]
  },
  {
   "cell_type": "code",
   "execution_count": null,
   "id": "43598051",
   "metadata": {},
   "outputs": [],
   "source": [
    "MS_data = catxas.ReadMSData(MS_filename)\n",
    "\n",
    "LV_data = catxas.ReadLVData(LV_filename)"
   ]
  },
  {
   "cell_type": "markdown",
   "id": "c5411c22",
   "metadata": {},
   "source": [
    "# 5. Interpolate MS and LV data onto CXAS timestamps"
   ]
  },
  {
   "cell_type": "code",
   "execution_count": null,
   "id": "6414cbde",
   "metadata": {},
   "outputs": [],
   "source": [
    "MS_interp = catxas.mergeindex(CXAS_summary, MS_data) \n",
    "LV_interp = catxas.mergeindex(CXAS_summary, LV_data)"
   ]
  },
  {
   "cell_type": "markdown",
   "id": "25fec74a",
   "metadata": {},
   "source": [
    "# 6. Concatenate BL Filenames with MS and LV data"
   ]
  },
  {
   "cell_type": "code",
   "execution_count": null,
   "id": "7459d28d",
   "metadata": {},
   "outputs": [],
   "source": [
    "process_params = pd.concat([CXAS_summary['File Name'],MS_interp, LV_interp], axis = 1)\n",
    "process_params"
   ]
  },
  {
   "cell_type": "markdown",
   "id": "22806fb7",
   "metadata": {},
   "source": [
    "# 7. Save Dataframe to CSV file"
   ]
  },
  {
   "cell_type": "code",
   "execution_count": null,
   "id": "46030e38",
   "metadata": {},
   "outputs": [],
   "source": [
    "### Modify paths inside the '' ###\n",
    "\n",
    "# Folder where to save file\n",
    "result_dir = r'C:\\Users\\ashoff\\OneDrive - SLAC National Accelerator Laboratory\\Co-ACCESS Shared Folder\\Python Scripts and GUIs\\Example Data 1 - SnO2 Reduction\\Results'\n",
    "\n",
    "# Name of file\n",
    "result_fname = 'SnO2_Spectra_Process_Correlation'\n",
    "\n",
    "# Header formats\n",
    "index_label = 'Clock Time' #None"
   ]
  },
  {
   "cell_type": "code",
   "execution_count": null,
   "id": "e36f3b6a",
   "metadata": {},
   "outputs": [],
   "source": [
    "process_params.to_csv(os.path.join(result_dir, result_fname + '.csv'), sep=',', \n",
    "                      na_rep='', header=True, index=True, index_label=index_label)"
   ]
  },
  {
   "cell_type": "code",
   "execution_count": null,
   "id": "9b7bb8ec",
   "metadata": {},
   "outputs": [],
   "source": []
  }
 ],
 "metadata": {
  "kernelspec": {
   "display_name": "Python 3",
   "language": "python",
   "name": "python3"
  },
  "language_info": {
   "codemirror_mode": {
    "name": "ipython",
    "version": 3
   },
   "file_extension": ".py",
   "mimetype": "text/x-python",
   "name": "python",
   "nbconvert_exporter": "python",
   "pygments_lexer": "ipython3",
   "version": "3.8.5"
  }
 },
 "nbformat": 4,
 "nbformat_minor": 5
}
