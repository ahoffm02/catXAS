{
 "cells": [
  {
   "cell_type": "code",
   "execution_count": 1,
   "id": "3dddc801",
   "metadata": {},
   "outputs": [],
   "source": [
    "# File Handling\n",
    "import os\n",
    "import pickle\n",
    "import glob2 as glob\n",
    "\n",
    "# Wrapper for xraylarch (larch)\n",
    "os.chdir('..')\n",
    "pwd = os.getcwd()\n",
    "os.chdir('./catxas')\n",
    "import general as fcts\n",
    "import xas as xfcts\n",
    "import plot as pfcts\n",
    "import process\n",
    "import experiment as exp\n",
    "\n",
    "# Make Plotting interactive\n",
    "from ipywidgets import interact, fixed\n",
    "\n",
    "# Plot Handling\n",
    "import matplotlib as mpl\n",
    "import matplotlib.pyplot as plt\n",
    "import matplotlib.gridspec as gridspec\n",
    "import matplotlib.pylab as pl\n",
    "from matplotlib import cm\n",
    "import matplotlib.patches as patches\n",
    "%matplotlib inline\n",
    "\n",
    "# DF handling\n",
    "import numpy as np\n",
    "import pandas as pd\n",
    "import math\n",
    "\n",
    "\n",
    "\n",
    "from scipy.integrate import odeint\n",
    "from scipy.optimize import curve_fit"
   ]
  },
  {
   "cell_type": "code",
   "execution_count": 2,
   "id": "54df2240",
   "metadata": {},
   "outputs": [],
   "source": [
    "# Reaction Rate Model\n",
    "\n",
    "# A-k1->B\n",
    "# B-k2->C\n",
    "# C-k3->D\n",
    "# D-k4->E\n",
    "\n",
    "def rxn(C,t,k):\n",
    "    '''\n",
    "    C = list of concentration\n",
    "    k = list of rate constants\n",
    "    t = time to calcualte reaction rates at\n",
    "    '''\n",
    "\n",
    "    r0 = k[0]*C[0]**2\n",
    "    r1 = k[1]*C[1]\n",
    "    r2 = k[2]*C[2]\n",
    "    r3 = k[3]*C[3]\n",
    "    r4 = k[4]*C[4]\n",
    "    \n",
    "    dAdt = -r0\n",
    "    dBdt = r0-r1\n",
    "    dCdt = r1-r2\n",
    "    dDdt = r2-r3\n",
    "    dEdt = r3\n",
    "    \n",
    "    return[dAdt, dBdt, dCdt, dDdt, dEdt]    "
   ]
  },
  {
   "cell_type": "code",
   "execution_count": null,
   "id": "a005c8f1",
   "metadata": {},
   "outputs": [],
   "source": [
    "# Time Period\n",
    "\n",
    "t =np.linspace(0,700,num =500)\n",
    "\n",
    "# Initial Concentration\n",
    "\n",
    "C0 = [1, 0, 0, 0, 0]\n",
    "\n",
    "# Rate Constants\n",
    "\n",
    "k = [0.05, 0.002, 0.001, 0.0000005, 0.02]"
   ]
  },
  {
   "cell_type": "code",
   "execution_count": null,
   "id": "d66147ed",
   "metadata": {},
   "outputs": [],
   "source": [
    "# Solve the ODE\n",
    "\n",
    "C = odeint(rxn, C0, t, args = (k,))\n",
    "\n",
    "cA = C[:,0]\n",
    "cB = C[:,1]\n",
    "cC = C[:,2]\n",
    "cD = C[:,3]\n",
    "cE = C[:,4]"
   ]
  },
  {
   "cell_type": "code",
   "execution_count": null,
   "id": "04b3df3e",
   "metadata": {},
   "outputs": [],
   "source": [
    "plt.plot(t,cA, label = 'cA')\n",
    "plt.plot(t,cB, label = 'cB')\n",
    "plt.plot(t,cC, label = 'cC')\n",
    "plt.plot(t,cD, label = 'cD')\n",
    "plt.plot(t,cE, label = 'cD')\n",
    "plt.legend()"
   ]
  },
  {
   "cell_type": "code",
   "execution_count": null,
   "id": "c974d981",
   "metadata": {},
   "outputs": [],
   "source": []
  },
  {
   "cell_type": "code",
   "execution_count": null,
   "id": "e2ce04d0",
   "metadata": {},
   "outputs": [],
   "source": []
  }
 ],
 "metadata": {
  "kernelspec": {
   "display_name": "Python 3 (ipykernel)",
   "language": "python",
   "name": "python3"
  },
  "language_info": {
   "codemirror_mode": {
    "name": "ipython",
    "version": 3
   },
   "file_extension": ".py",
   "mimetype": "text/x-python",
   "name": "python",
   "nbconvert_exporter": "python",
   "pygments_lexer": "ipython3",
   "version": "3.9.12"
  }
 },
 "nbformat": 4,
 "nbformat_minor": 5
}
