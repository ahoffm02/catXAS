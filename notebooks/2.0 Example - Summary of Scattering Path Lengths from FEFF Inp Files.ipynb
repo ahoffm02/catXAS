{
 "cells": [
  {
   "cell_type": "code",
   "execution_count": 1,
   "id": "72de745c",
   "metadata": {},
   "outputs": [
    {
     "name": "stdout",
     "output_type": "stream",
     "text": [
      "No conda env active, defaulting to base\n"
     ]
    }
   ],
   "source": [
    "import os\n",
    "import glob2\n",
    "\n",
    "from matplotlib import pyplot as plt\n",
    "\n",
    "os.chdir('..')\n",
    "os.chdir('./catxas')\n",
    "import catxas"
   ]
  },
  {
   "cell_type": "markdown",
   "id": "1e676c5e",
   "metadata": {},
   "source": [
    "#  1. Define directory containing FEFF inp files"
   ]
  },
  {
   "cell_type": "code",
   "execution_count": 2,
   "id": "db7bb041",
   "metadata": {},
   "outputs": [],
   "source": [
    "### Modify paths inside the '' ###\n",
    "\n",
    "# Folder containing FEFF Inp (*.inp) files\n",
    "inp_dir = r'C:\\Users\\ashoff\\Desktop\\PtCeO2Feff'"
   ]
  },
  {
   "cell_type": "markdown",
   "id": "687f47bf",
   "metadata": {},
   "source": [
    "# 2. Define Plotting Window in R"
   ]
  },
  {
   "cell_type": "code",
   "execution_count": 3,
   "id": "284b1dde",
   "metadata": {},
   "outputs": [],
   "source": [
    "### Define plotting bounds ###\n",
    "xmin = 1\n",
    "xmax = 6\n",
    "xlabel = 'R (Å)'\n",
    "ylabel = 'Degenercy (Coordination Number)'"
   ]
  },
  {
   "cell_type": "markdown",
   "id": "88a323d5",
   "metadata": {},
   "source": [
    "# 3. Extract .inp files "
   ]
  },
  {
   "cell_type": "code",
   "execution_count": 4,
   "id": "cfe3d84f",
   "metadata": {},
   "outputs": [],
   "source": [
    "inp_files = glob2.glob(inp_dir+'\\*.inp')"
   ]
  },
  {
   "cell_type": "markdown",
   "id": "4408a902",
   "metadata": {},
   "source": [
    "# 4. Calcuate, Save and Plot Scattering Paths"
   ]
  },
  {
   "cell_type": "code",
   "execution_count": 5,
   "id": "7798591d",
   "metadata": {
    "scrolled": false
   },
   "outputs": [
    {
     "name": "stdout",
     "output_type": "stream",
     "text": [
      "Successfully created subdirectory\n",
      "Successfully created subdirectory\n",
      " : ======== running Feff module C:\\ProgramData\\Anaconda3\\lib\\site-packages\\larch\\bin\\win64\\feff6l.exe ========\n",
      " : Feff 6L.02\n",
      " : Ce15O31Pt\n",
      " : Calculating potentials and phases...\n",
      " : free atom potential and density for atom type    0\n",
      " : free atom potential and density for atom type    1\n",
      " : free atom potential and density for atom type    2\n",
      " : free atom potential and density for atom type    3\n",
      " : overlapped potential and density for unique potential    0\n",
      " : overlapped potential and density for unique potential    1\n",
      " : overlapped potential and density for unique potential    2\n",
      " : overlapped potential and density for unique potential    3\n",
      " : muffin tin radii and interstitial parameters\n",
      " : phase shifts for unique potential    0\n",
      " : phase shifts for unique potential    1\n",
      " : phase shifts for unique potential    2\n",
      " : phase shifts for unique potential    3\n",
      " : Preparing plane wave scattering amplitudes...\n",
      " : nncrit in prcrit       9\n",
      " : Searching for paths...\n",
      " : Rmax  5.0000  keep and heap limits   0.0000000   0.0000000\n",
      " : Preparing neighbor table\n",
      " : nfound  nheap  nheapx  nsc    r\n",
      " : Paths found      202   (nheapx, nbx      37   4)\n",
      " : Eliminating path degeneracies...\n",
      " : Plane wave chi amplitude filter   2.50%\n",
      " : Unique paths     67,  total paths     101\n",
      " : Calculating EXAFS parameters...\n",
      " : Curved wave chi amplitude ratio   4.00%\n",
      " : Discard feff.dat for paths with cw ratio <   2.67%\n",
      " : path  cw ratio     deg    nleg  reff\n",
      " : 1   100.000     1.000     2   2.0079\n",
      " : 2   100.000     2.000     2   2.0173\n",
      " : 3    49.253     1.000     2   2.0291\n",
      " : 4    22.753     1.000     2   3.0253\n",
      " : 5    21.793     1.000     2   3.0783\n",
      " : 6    21.235     1.000     2   3.1132\n",
      " : 7    19.360     1.000     2   3.2576\n",
      " : 8    11.775     1.000     2   3.4148\n",
      " : 9     6.274     2.000     3   3.4679\n",
      " : 10    10.886     1.000     2   3.5049\n",
      " : 11     6.341     2.000     3   3.5084\n",
      " : 12    10.571     1.000     2   3.5391\n",
      " : 13    10.179     1.000     2   3.5833\n",
      " : 14     3.302     2.000     3   3.6402\n",
      " : 15     3.243     2.000     3   3.6499\n",
      " : 16     2.759     2.000     3   3.7277\n",
      " : 17     8.689     1.000     2   3.7723\n",
      " : 18     4.408     1.000     4   4.0159\n",
      " : 19    11.416     2.000     3   4.0192\n",
      " : 20    28.018     2.000     4   4.0252\n",
      " : 21     8.600     2.000     4   4.0345\n",
      " : 22    12.171     1.000     2   4.0463\n",
      " : 23    11.563     2.000     3   4.0456\n",
      " : 24    29.487     2.000     4   4.0464\n",
      " : 25     4.168     1.000     4   4.0583\n",
      " : 26     1.973     2.000     3   4.1698 neglected\n",
      " : 27     7.009     2.000     3   4.1737\n",
      " : 28     1.787     2.000     3   4.1775 neglected\n",
      " : 29    10.866     1.000     2   4.2377\n",
      " : 30     5.802     1.000     2   4.2815\n",
      " : 31    10.555     1.000     2   4.2869\n",
      " : 32     3.448     1.000     4   4.3011\n",
      " : 33    11.834     2.000     3   4.3088\n",
      " : 34     5.643     1.000     2   4.3180\n",
      " : 35     5.371     1.000     4   4.3800\n",
      " : 36     2.226     2.000     3   4.3888 neglected\n",
      " : 37     5.312     1.000     2   4.3980\n",
      " : 38     5.267     1.000     2   4.4093\n",
      " : 39     1.973     2.000     3   4.4378 neglected\n",
      " : 40     5.103     1.000     2   4.4516\n",
      " : 41     2.580     2.000     3   4.4670 neglected\n",
      " : 42     2.175     2.000     3   4.4666 neglected\n",
      " : 43     4.927     1.000     2   4.4986\n",
      " : 44     3.166     2.000     3   4.5160\n",
      " : 45     3.459     2.000     3   4.5289\n",
      " : 46     3.918     2.000     3   4.5748\n",
      " : 47     4.099     2.000     3   4.5767\n",
      " : 48     4.291     2.000     3   4.6057\n",
      " : 49     1.602     2.000     3   4.6051 neglected\n",
      " : 50     3.830     2.000     3   4.6646\n",
      " : 51     1.356     1.000     4   4.7397 neglected\n",
      " : 52     1.743     1.000     4   4.7441 neglected\n",
      " : 53     1.171     1.000     4   4.7505 neglected\n",
      " : 54     1.639     1.000     4   4.7516 neglected\n",
      " : 55     1.861     1.000     4   4.7598 neglected\n",
      " : 56     1.945     2.000     3   4.7688 neglected\n",
      " : 57     3.921     1.000     2   4.8130\n",
      " : 58     1.848     2.000     3   4.8142 neglected\n",
      " : 59     1.858     2.000     3   4.8177 neglected\n",
      " : 60     1.632     1.000     4   4.8307 neglected\n",
      " : 61     1.774     2.000     3   4.8388 neglected\n",
      " : 62     1.751     2.000     3   4.8417 neglected\n",
      " : 63     3.743     1.000     2   4.8784\n",
      " : 64     7.407     1.000     2   4.8967\n",
      " : 65     1.632     2.000     3   4.9033 neglected\n",
      " : 66     2.140     2.000     4   4.9186 neglected\n",
      " : 67     7.091     2.000     3   4.9715\n",
      " : 47 paths kept,   67 examined.\n",
      " : Feff done.  Have a nice day.\n"
     ]
    },
    {
     "data": {
      "image/png": "[encoded data removed]",
      "text/plain": [
       "<Figure size 720x720 with 1 Axes>"
      ]
     },
     "metadata": {
      "needs_background": "light"
     },
     "output_type": "display_data"
    }
   ],
   "source": [
    "for line in inp_files:\n",
    "    # Create Results Directory\n",
    "    catxas.create_subdir(inp_dir, os.path.basename(line)[:-4]+'_results')\n",
    "    result_dir = os.path.join(inp_dir, os.path.basename(line)[:-4]+'_results')\n",
    "    \n",
    "    # Runn FEFF and Create Summary Dictionary\n",
    "    feff_summary = catxas.feff_PathSummary(line, sigma2 = 0.003, feff = 6)\n",
    "    \n",
    "    # Plot Paths from Summary\n",
    "    path_plt = catxas.plot_feff_paths(feff_summary, xmin= xmin, xmax=xmax, xlabel = xlabel, ylabel = ylabel)\n",
    "    \n",
    "    # Save Figure\n",
    "    path_plt.savefig(os.path.join(result_dir,os.path.basename(line)[:-4]+'.png'), dpi=None, facecolor='w', edgecolor='w',\n",
    "        orientation='portrait', papertype=None, format=None,\n",
    "        transparent=False, bbox_inches=None, pad_inches=0.1,\n",
    "        frameon=None, metadata=None)\n",
    "    \n",
    "    # Save csv file of single and multiple scattering paths\n",
    "    for key in feff_summary['Path_Summary'].keys():\n",
    "        feff_summary['Path_Summary'][key][['Backsactterer', 'Reff', 'Degen']].to_csv(os.path.join(result_dir,os.path.basename(line)[:-4]+f'_{key}_Backscatterer.csv'), sep=',', header=True, index=False,)\n",
    "    "
   ]
  },
  {
   "cell_type": "code",
   "execution_count": null,
   "id": "57ad940f",
   "metadata": {},
   "outputs": [],
   "source": []
  }
 ],
 "metadata": {
  "kernelspec": {
   "display_name": "Python 3",
   "language": "python",
   "name": "python3"
  },
  "language_info": {
   "codemirror_mode": {
    "name": "ipython",
    "version": 3
   },
   "file_extension": ".py",
   "mimetype": "text/x-python",
   "name": "python",
   "nbconvert_exporter": "python",
   "pygments_lexer": "ipython3",
   "version": "3.8.5"
  }
 },
 "nbformat": 4,
 "nbformat_minor": 5
}
