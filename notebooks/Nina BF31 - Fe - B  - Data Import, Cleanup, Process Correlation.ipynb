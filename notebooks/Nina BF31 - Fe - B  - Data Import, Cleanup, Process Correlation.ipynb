{
 "cells": [
  {
   "cell_type": "markdown",
   "id": "e26c063d",
   "metadata": {},
   "source": [
    "# 3.1 Example - QEXAFS Data Processing - Data Inport, Cleanup, Process Correlation\n",
    "\n",
    "Goal of Workflow:\n",
    "\n",
    "    1. Import all QEXAFS data\n",
    "    2. Calculate absorption coefficients\n",
    "    3. Remove Beamline data leaving only energy and mu\n",
    "    4. Import process data\n",
    "    5. Correlate QEXAFS and process data\n",
    "    6. Save data for further processing\n",
    "    \n",
    "### Steps:\n",
    "    1. Import Modules\n",
    "    2. Define Paths\n",
    "    3. Define Beamline Data Structure\n",
    "    4. Add Data to Experiment Object\n",
    "    5. Clean up Data\n",
    "    6. Calculate Absorption Spectra\n",
    "    7. Remove Raw Data from Experiment\n",
    "    8. Import Process Data Streams\n",
    "    9. Correlate Process Parameters to QEXAFS Data\n",
    "    10. Save Experiment with 'pickle'\n",
    "\n",
    "### Things to have ready when attemtping this example:\n",
    "    1. Directoty containing only XAS spectra\n",
    "    2. Data structure of the XAS files\n",
    "    3. Directory and filename where to save the experiment object (pickling)\n",
    "    4. Directoy and filenames of process data streams (mass spec. and LabView)\n",
    "\n",
    "## Step 1. Import Modules"
   ]
  },
  {
   "cell_type": "code",
   "execution_count": 1,
   "id": "58ff3bec",
   "metadata": {},
   "outputs": [],
   "source": [
    "# DO NOT MODIFY BELOW\n",
    "\n",
    "# File Handling\n",
    "import os\n",
    "import pickle\n",
    "\n",
    "# Make Plotting interactive\n",
    "from ipywidgets import interact, fixed\n",
    "\n",
    "# Wrapper for xraylarch (larch)\n",
    "os.chdir('..')\n",
    "pwd = os.getcwd()\n",
    "os.chdir('./catxas')\n",
    "import general as fcts\n",
    "import xas as xfcts\n",
    "import plot as pfcts\n",
    "import process\n",
    "import experiment as exp\n",
    "\n",
    "\n",
    "# Plot Handling\n",
    "%matplotlib inline\n",
    "\n",
    "# Time Elapsed counting\n",
    "import time\n",
    "\n",
    "start_time = time.process_time()"
   ]
  },
  {
   "cell_type": "markdown",
   "id": "3b76a7d6",
   "metadata": {},
   "source": [
    "## Step 2. Define Paths\n",
    "\n",
    "#### Modify:\n",
    "    1. data_dir - directory containing XAS spetra ONLY!\n",
    "    2. pickle_dir - directory where to save the experiment\n",
    "    3. pickpe_name - filename to save the experiment (must include extension '.pickle')\n",
    "    4. MS_fname - full path, filename, and extension to mass spectrometer file\n",
    "    5. LV_fname - full path, filename, and extension to LabView file"
   ]
  },
  {
   "cell_type": "code",
   "execution_count": 2,
   "id": "56080472",
   "metadata": {},
   "outputs": [],
   "source": [
    "# Folder containing ONLY XAS spectra\n",
    "data_dir = r'D:\\UU QEXAFS Workup\\Nina - BF31\\Fe Edge\\Up\\20211119_ME_BF31_Fe_B_UP'\n",
    "\n",
    "# Directory where to save the experiment:\n",
    "pickle_dir = r'D:\\UU QEXAFS Workup\\Nina - BF31\\Fe Edge\\Up\\Results\\Step B'\n",
    "\n",
    "# File name to save the sxperiment (must include extension '.pickle')\n",
    "pickle_name = 'BF31-Fe-B'\n",
    "\n",
    "# Path and file name of mass spectrometer file\n",
    "MS_fname = r'D:\\UU QEXAFS Workup\\Nina - BF31\\Process Parameter Files\\20211119_ME_BF31View4.csv'\n",
    "\n",
    "# Path and file name of LabView file\n",
    "LV_fname = r'D:\\UU QEXAFS Workup\\Nina - BF31\\Process Parameter Files\\T02R0035-19112021-Process.txt'"
   ]
  },
  {
   "cell_type": "markdown",
   "id": "0457aa56",
   "metadata": {},
   "source": [
    "## Step 3. Define Beamline Data Structure\n",
    "\n",
    "Common data formats for SSRL beamlines can be found in the \"BL specific XAS data structures.ipynb\" notebook."
   ]
  },
  {
   "cell_type": "code",
   "execution_count": 3,
   "id": "75aa81b1",
   "metadata": {},
   "outputs": [],
   "source": [
    "### Define the layout of the xas data file and how spectra are calcualted\n",
    "xas_data_structure = {\n",
    "    'time stamp': True,\n",
    "    'time on line': 6,\n",
    "    'time format': '# First Scan Create Date:\\t%m/%d/%Y %I:%M:%S %p ',\n",
    "    'padded scan numbers': True,\n",
    "    'column names': ['Encoder', 'Energy', 'ADC_01', 'ADC_02', 'ADC_03', 'ADC_04', 'ADC_05', 'Time', 'Gate'],\n",
    "    'energy column' : 'Energy', # Energy [eV]\n",
    "    'sample numerator': 'ADC_01', # I0\n",
    "    'sample denominator': 'ADC_02', # I1\n",
    "    'sample ln': True,\n",
    "    'sample invert': False,\n",
    "    'reference numerator': 'ADC_01', # I0\n",
    "    'reference denominator': 'ADC_03', # I2\n",
    "    'reference ln': True,\n",
    "    'reference invert': False,\n",
    "    'is QEXAFS': True\n",
    "}"
   ]
  },
  {
   "cell_type": "markdown",
   "id": "eae7ae11",
   "metadata": {},
   "source": [
    "## Step 4. Add Data to Experiment Object\n",
    "\n",
    "    The Experiment class is a dictionary-like obect that is used to store XAS data, process data streams, and correlation and fitting results.\n",
    "    \n",
    "### Major steps for adding data to the Experiment class:\n",
    "    a. Create Experiment Class\n",
    "    b. Load XAS data into the Experiment object\n",
    "    \n",
    "\n",
    "### 4a. Create Experiment Class\n",
    "\n",
    "#### MODIFY:\n",
    "    1. exp_name - unique identifier for the experiment object"
   ]
  },
  {
   "cell_type": "code",
   "execution_count": 4,
   "id": "7096ea88",
   "metadata": {},
   "outputs": [],
   "source": [
    "# Uniquie name for the experiment\n",
    "exp_name = 'BF31-Fe-B'"
   ]
  },
  {
   "cell_type": "code",
   "execution_count": 5,
   "id": "9bf57b51",
   "metadata": {},
   "outputs": [],
   "source": [
    "# DO NOT MODIFY\n",
    "\n",
    "# Create the Experimental Class\n",
    "my_exp = exp.Experiment(exp_name)"
   ]
  },
  {
   "cell_type": "markdown",
   "id": "af4d0b7a",
   "metadata": {},
   "source": [
    "### 4b. Load XAS data into the Experiment object"
   ]
  },
  {
   "cell_type": "code",
   "execution_count": 6,
   "id": "d36529ff",
   "metadata": {},
   "outputs": [
    {
     "name": "stdout",
     "output_type": "stream",
     "text": [
      "Time to import data: 9.340885416666667 minutes\n"
     ]
    }
   ],
   "source": [
    "# Add raw data into spectra files\n",
    "my_exp.import_spectra_data(data_dir, xas_data_structure, print_name = False)\n",
    "\n",
    "elapsed_time = time.process_time()-start_time\n",
    "print(f'Time to import data: {elapsed_time/60} minutes')"
   ]
  },
  {
   "cell_type": "markdown",
   "id": "a2011964",
   "metadata": {},
   "source": [
    "## Step 5. Clean up Data\n",
    "#### STILL IN DEVELOPMENT\n",
    "    If spectra were collected using CXAS or QXAS there is a chance that the raw data may need cleaning up to remove\n",
    "    duplicate data points or nan/inf values.\n",
    "    \n",
    "    for QXAS, data parsing may result in short/long data sets that need to be removed prior to further processing.\n",
    "    \n",
    "### 5a. Remove duplicate points, NaN/inf values, and Zero values"
   ]
  },
  {
   "cell_type": "code",
   "execution_count": 7,
   "id": "6957cc7c",
   "metadata": {},
   "outputs": [
    {
     "name": "stdout",
     "output_type": "stream",
     "text": [
      "Duplicate data points removed\n",
      "Range of data points per raw spectra: 357-40021\n",
      "Range of data points per duplicates removed spectra: 210-37174\n"
     ]
    }
   ],
   "source": [
    "my_exp.organize_RawData(remove_duplicates=True, remove_nan_inf=False, remove_zeros=False) \n",
    "# remove_nan_inf & remove_zeros does not work yet"
   ]
  },
  {
   "cell_type": "markdown",
   "id": "1fff202c",
   "metadata": {},
   "source": [
    "### 5b. Remove short/long data sets"
   ]
  },
  {
   "cell_type": "code",
   "execution_count": 8,
   "id": "9ea4710a",
   "metadata": {},
   "outputs": [
    {
     "name": "stdout",
     "output_type": "stream",
     "text": [
      "S̲p̲e̲c̲t̲r̲a̲ ̲D̲a̲t̲a̲ ̲L̲e̲n̲g̲h̲t̲ ̲C̲h̲a̲r̲a̲c̲t̲e̲r̲i̲s̲t̲i̲c̲s̲:\n",
      "\tSpectra interrogated: 2546\n",
      "\tLongest Data Set: 37174 data points\n",
      "\tShortest Data Set: 210 data points\n",
      "\tMean Data Points per Spectrum: 19315\n",
      "\tDeviation in Data Points: 545\n",
      "\n",
      "\n",
      "P̲r̲o̲b̲l̲e̲m̲a̲t̲i̲c̲ ̲S̲p̲e̲c̲t̲r̲a̲:\n",
      "\tNumber of Spectra: 3\n",
      "\t\t20211119_ME_BF31_Fe_B_00001\n",
      "                      10860\n",
      "\t\t20211119_ME_BF31_Fe_B_03998\n",
      "                      37174\n",
      "\t\t20211119_ME_BF31_Fe_B_04199\n",
      "                        210\n"
     ]
    }
   ],
   "source": [
    "# Determine and summarize the short/long data sets\n",
    "bad_spectra = my_exp.data_length_screen(deviations = 3)"
   ]
  },
  {
   "cell_type": "code",
   "execution_count": 9,
   "id": "d5dfa46e",
   "metadata": {},
   "outputs": [
    {
     "name": "stdout",
     "output_type": "stream",
     "text": [
      "Removing 20211119_ME_BF31_Fe_B_00001\n",
      "\tRemoved from Spectra\n",
      "\tRemoved from the summary: \"XAS Spectra Files\n",
      "Removing 20211119_ME_BF31_Fe_B_03998\n",
      "\tRemoved from Spectra\n",
      "\tRemoved from the summary: \"XAS Spectra Files\n",
      "Removing 20211119_ME_BF31_Fe_B_04199\n",
      "\tRemoved from Spectra\n",
      "\tRemoved from the summary: \"XAS Spectra Files\n",
      "Spectra Removed list has been created in Summary\n"
     ]
    }
   ],
   "source": [
    "# Remove the bad spectra from the dataset\n",
    "my_exp.remove_bad_spectra(bad_spectra['Filename'])"
   ]
  },
  {
   "cell_type": "markdown",
   "id": "2e015928",
   "metadata": {},
   "source": [
    "## Step 6. Calculate Absorption Spectra\n",
    "\n",
    "#### MODIFY:\n",
    "    1. sample_spectra - True = calcualtes sample mux, False = does not calcualte sample mux\n",
    "    2. ref_spectra - True = calcualtes reference mux, False = does not calcualte reference mux"
   ]
  },
  {
   "cell_type": "code",
   "execution_count": 10,
   "id": "0ffdd249",
   "metadata": {},
   "outputs": [],
   "source": [
    "# Calcualte mux for Sample:\n",
    "sample_spectra = True\n",
    "\n",
    "# Calcualte mux for Reference:\n",
    "ref_spectra = True"
   ]
  },
  {
   "cell_type": "code",
   "execution_count": 11,
   "id": "0cd1309b",
   "metadata": {},
   "outputs": [],
   "source": [
    "# DO NOT MODIFY BELOW\n",
    "\n",
    "my_exp.calculate_spectra(sample_spectra = sample_spectra, ref_spectra = ref_spectra)"
   ]
  },
  {
   "cell_type": "markdown",
   "id": "65f4b97c",
   "metadata": {},
   "source": [
    "## Step 7. Remove BL data from experimental class"
   ]
  },
  {
   "cell_type": "code",
   "execution_count": 12,
   "id": "6b9fa9a6",
   "metadata": {},
   "outputs": [
    {
     "name": "stdout",
     "output_type": "stream",
     "text": [
      "Beamline data removed from experiment\n"
     ]
    }
   ],
   "source": [
    "# DO NOT MODIFY BELOW\n",
    "my_exp.remove_BLData()"
   ]
  },
  {
   "cell_type": "markdown",
   "id": "ec7b6549",
   "metadata": {},
   "source": [
    "## Step 8. Add Process Data to Experiment \n",
    "\n",
    "    Note: Additiona datastreams will need their own functions. Please reach out with questions."
   ]
  },
  {
   "cell_type": "code",
   "execution_count": 13,
   "id": "856b4426",
   "metadata": {},
   "outputs": [],
   "source": [
    "# Add Mass Spec Dataset\n",
    "my_exp.import_massspec(MS_fname)\n",
    "\n",
    "# Add LabView Dataset\n",
    "my_exp.import_labview(LV_fname)"
   ]
  },
  {
   "cell_type": "markdown",
   "id": "d9a6f987",
   "metadata": {},
   "source": [
    "## Step 9. Correlate Process Parameters to XAS data\n",
    "\n",
    "    This step interpolates values from the parameter datasets onto the XAS spectra time grid."
   ]
  },
  {
   "cell_type": "code",
   "execution_count": 14,
   "id": "e0375c94",
   "metadata": {},
   "outputs": [
    {
     "name": "stdout",
     "output_type": "stream",
     "text": [
      "Genearted Spectra Summary\n",
      "Merged Index for Process: MS Data\n",
      "Merged Index for Process: LV Data\n"
     ]
    }
   ],
   "source": [
    "# DO NOT MODIFY\n",
    "my_exp.correlate_process_params()"
   ]
  },
  {
   "cell_type": "markdown",
   "id": "94e175ff",
   "metadata": {},
   "source": [
    "## Step 10. Save Experiment with 'pickle' \n",
    "    Pickle - A method to save the experimental class and reopen it elsewhere."
   ]
  },
  {
   "cell_type": "code",
   "execution_count": 15,
   "id": "c0f694c9",
   "metadata": {},
   "outputs": [],
   "source": [
    "pickle_path = os.path.join(pickle_dir,pickle_name+'.pickle')\n",
    "pickle_out = open(pickle_path,\"wb\")\n",
    "pickle.dump(my_exp, pickle_out)\n",
    "pickle_out.close()"
   ]
  },
  {
   "cell_type": "markdown",
   "id": "a6703c97",
   "metadata": {},
   "source": [
    "# Do not forget to kill this kernal to prevent pileup on the RAM"
   ]
  }
 ],
 "metadata": {
  "kernelspec": {
   "display_name": "Python 3 (ipykernel)",
   "language": "python",
   "name": "python3"
  },
  "language_info": {
   "codemirror_mode": {
    "name": "ipython",
    "version": 3
   },
   "file_extension": ".py",
   "mimetype": "text/x-python",
   "name": "python",
   "nbconvert_exporter": "python",
   "pygments_lexer": "ipython3",
   "version": "3.9.12"
  }
 },
 "nbformat": 4,
 "nbformat_minor": 5
}
